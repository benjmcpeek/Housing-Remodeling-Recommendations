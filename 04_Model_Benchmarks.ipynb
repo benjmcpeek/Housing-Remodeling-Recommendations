{
 "cells": [
  {
   "cell_type": "markdown",
   "id": "86d0aa61-9547-4cf4-8779-bc60c56dd45d",
   "metadata": {},
   "source": [
    "# First Model "
   ]
  },
  {
   "cell_type": "code",
   "execution_count": 1,
   "id": "12be6ebd-f5f5-4fbd-9fb0-4dc3b1d07566",
   "metadata": {
    "tags": []
   },
   "outputs": [],
   "source": [
    "import pandas as pd\n",
    "import numpy as np\n",
    "import seaborn as sns\n",
    "import matplotlib.pyplot as plt\n",
    "from sklearn.model_selection import cross_val_score, train_test_split\n",
    "from sklearn.metrics import r2_score, mean_squared_error\n",
    "from sklearn.linear_model import LinearRegression\n",
    "from sklearn.preprocessing import StandardScaler, PolynomialFeatures\n",
    "from sklearn.preprocessing import OrdinalEncoder"
   ]
  },
  {
   "cell_type": "markdown",
   "id": "79647470-9cf1-4975-a7d6-4cbeda9de754",
   "metadata": {},
   "source": [
    "### I will use a LinearReggresion model because our target variable is numerical"
   ]
  },
  {
   "cell_type": "code",
   "execution_count": 2,
   "id": "bfbb72ab-51a1-43a4-9439-6682761711f4",
   "metadata": {
    "tags": []
   },
   "outputs": [],
   "source": [
    "eda_train = pd.read_csv('../datasets/feat_train.csv')\n",
    "eda_test = pd.read_csv('../datasets/feat_test.csv')"
   ]
  },
  {
   "cell_type": "code",
   "execution_count": 3,
   "id": "7c97a82d-1269-4b8d-b5cd-c33901a6952b",
   "metadata": {
    "tags": []
   },
   "outputs": [
    {
     "data": {
      "text/plain": [
       "(2051, 106)"
      ]
     },
     "execution_count": 3,
     "metadata": {},
     "output_type": "execute_result"
    }
   ],
   "source": [
    "eda_train.shape"
   ]
  },
  {
   "cell_type": "code",
   "execution_count": 4,
   "id": "c81d5017-9511-4046-985d-aa56a3dcb056",
   "metadata": {
    "tags": []
   },
   "outputs": [
    {
     "data": {
      "text/plain": [
       "(878, 105)"
      ]
     },
     "execution_count": 4,
     "metadata": {},
     "output_type": "execute_result"
    }
   ],
   "source": [
    "eda_test.shape"
   ]
  },
  {
   "cell_type": "markdown",
   "id": "fe3b988e-13aa-4e93-bf29-3b97078e96c7",
   "metadata": {},
   "source": [
    "### Create our features matrix (X) and target vector (y)"
   ]
  },
  {
   "cell_type": "code",
   "execution_count": 5,
   "id": "aa93bd6e-1af9-4a86-b68b-a8a5e4693bff",
   "metadata": {
    "tags": []
   },
   "outputs": [],
   "source": [
    "features = ['lot_area', 'overall_qual', 'overall_cond', 'year_built', 'year_remod/add', \n",
    "            'exter_qual', 'exter_cond', 'bsmt_qual', 'bsmt_cond', 'heating_qc', 'kitchen_qual', 'garage_area', \n",
    "           'totrms_abvgrd', 'full_bath', '1st_flr_sf', 'gr_liv_area', 'garage_cars', 'land_contour', \n",
    "            'bldg_type', 'house_style']"
   ]
  },
  {
   "cell_type": "code",
   "execution_count": 6,
   "id": "b8d7fe75-0a29-401e-bf3e-2592bc5411cb",
   "metadata": {
    "tags": []
   },
   "outputs": [],
   "source": [
    "X = eda_train[features]\n",
    "y = eda_train['saleprice']"
   ]
  },
  {
   "cell_type": "markdown",
   "id": "811d907c-4eaf-496a-a52e-e1ed9ea13f75",
   "metadata": {},
   "source": [
    "### Train/test split"
   ]
  },
  {
   "cell_type": "code",
   "execution_count": 7,
   "id": "5d7b7060-31df-4c72-8b15-c01ffd0fd4dc",
   "metadata": {
    "tags": []
   },
   "outputs": [],
   "source": [
    "X_train, X_test, y_train, y_test = train_test_split(X, y, random_state = 42)"
   ]
  },
  {
   "cell_type": "markdown",
   "id": "7a0284ba-ff46-4a6c-82a8-da23fdddf49c",
   "metadata": {},
   "source": [
    "### Baseline saleprice for target variable"
   ]
  },
  {
   "cell_type": "code",
   "execution_count": 8,
   "id": "69a3dbc4-eb29-4914-99a3-04884b8f6866",
   "metadata": {
    "tags": []
   },
   "outputs": [
    {
     "name": "stdout",
     "output_type": "stream",
     "text": [
      "166512.566580161\n"
     ]
    }
   ],
   "source": [
    "print(np.exp(y_train.mean()))"
   ]
  },
  {
   "cell_type": "code",
   "execution_count": 9,
   "id": "e62d8820-9ca8-4670-b3f8-11de04dc0b6a",
   "metadata": {
    "tags": []
   },
   "outputs": [
    {
     "name": "stdout",
     "output_type": "stream",
     "text": [
      "Train Shape: ((1538, 20), (1538,))\n",
      "Test shape: ((513, 20), (513,))\n"
     ]
    }
   ],
   "source": [
    "print(f'Train Shape: {X_train.shape, y_train.shape}')\n",
    "print(f'Test shape: {X_test.shape, y_test.shape}')"
   ]
  },
  {
   "cell_type": "code",
   "execution_count": 10,
   "id": "4c490873-5819-480b-b262-0c64943493f1",
   "metadata": {
    "tags": []
   },
   "outputs": [],
   "source": [
    "sc = StandardScaler()\n",
    "\n",
    "X_train_sc = sc.fit_transform(X_train) \n",
    "\n",
    "X_test_sc = sc.transform(X_test)"
   ]
  },
  {
   "cell_type": "code",
   "execution_count": 11,
   "id": "e22f722f-552f-4559-94d3-aaadd7b9ba87",
   "metadata": {
    "tags": []
   },
   "outputs": [],
   "source": [
    "lr = LinearRegression()"
   ]
  },
  {
   "cell_type": "code",
   "execution_count": 12,
   "id": "87084fd7-6c0c-4af6-a7ce-fa746c7b7773",
   "metadata": {
    "tags": []
   },
   "outputs": [
    {
     "data": {
      "text/plain": [
       "0.8732708437957738"
      ]
     },
     "execution_count": 12,
     "metadata": {},
     "output_type": "execute_result"
    }
   ],
   "source": [
    "cross_val_score(lr, X_train, y_train).mean()"
   ]
  },
  {
   "cell_type": "code",
   "execution_count": 13,
   "id": "9773df82-6941-4149-85b3-2bbee32a8f6a",
   "metadata": {
    "tags": []
   },
   "outputs": [
    {
     "data": {
      "text/html": [
       "<style>#sk-container-id-1 {color: black;background-color: white;}#sk-container-id-1 pre{padding: 0;}#sk-container-id-1 div.sk-toggleable {background-color: white;}#sk-container-id-1 label.sk-toggleable__label {cursor: pointer;display: block;width: 100%;margin-bottom: 0;padding: 0.3em;box-sizing: border-box;text-align: center;}#sk-container-id-1 label.sk-toggleable__label-arrow:before {content: \"▸\";float: left;margin-right: 0.25em;color: #696969;}#sk-container-id-1 label.sk-toggleable__label-arrow:hover:before {color: black;}#sk-container-id-1 div.sk-estimator:hover label.sk-toggleable__label-arrow:before {color: black;}#sk-container-id-1 div.sk-toggleable__content {max-height: 0;max-width: 0;overflow: hidden;text-align: left;background-color: #f0f8ff;}#sk-container-id-1 div.sk-toggleable__content pre {margin: 0.2em;color: black;border-radius: 0.25em;background-color: #f0f8ff;}#sk-container-id-1 input.sk-toggleable__control:checked~div.sk-toggleable__content {max-height: 200px;max-width: 100%;overflow: auto;}#sk-container-id-1 input.sk-toggleable__control:checked~label.sk-toggleable__label-arrow:before {content: \"▾\";}#sk-container-id-1 div.sk-estimator input.sk-toggleable__control:checked~label.sk-toggleable__label {background-color: #d4ebff;}#sk-container-id-1 div.sk-label input.sk-toggleable__control:checked~label.sk-toggleable__label {background-color: #d4ebff;}#sk-container-id-1 input.sk-hidden--visually {border: 0;clip: rect(1px 1px 1px 1px);clip: rect(1px, 1px, 1px, 1px);height: 1px;margin: -1px;overflow: hidden;padding: 0;position: absolute;width: 1px;}#sk-container-id-1 div.sk-estimator {font-family: monospace;background-color: #f0f8ff;border: 1px dotted black;border-radius: 0.25em;box-sizing: border-box;margin-bottom: 0.5em;}#sk-container-id-1 div.sk-estimator:hover {background-color: #d4ebff;}#sk-container-id-1 div.sk-parallel-item::after {content: \"\";width: 100%;border-bottom: 1px solid gray;flex-grow: 1;}#sk-container-id-1 div.sk-label:hover label.sk-toggleable__label {background-color: #d4ebff;}#sk-container-id-1 div.sk-serial::before {content: \"\";position: absolute;border-left: 1px solid gray;box-sizing: border-box;top: 0;bottom: 0;left: 50%;z-index: 0;}#sk-container-id-1 div.sk-serial {display: flex;flex-direction: column;align-items: center;background-color: white;padding-right: 0.2em;padding-left: 0.2em;position: relative;}#sk-container-id-1 div.sk-item {position: relative;z-index: 1;}#sk-container-id-1 div.sk-parallel {display: flex;align-items: stretch;justify-content: center;background-color: white;position: relative;}#sk-container-id-1 div.sk-item::before, #sk-container-id-1 div.sk-parallel-item::before {content: \"\";position: absolute;border-left: 1px solid gray;box-sizing: border-box;top: 0;bottom: 0;left: 50%;z-index: -1;}#sk-container-id-1 div.sk-parallel-item {display: flex;flex-direction: column;z-index: 1;position: relative;background-color: white;}#sk-container-id-1 div.sk-parallel-item:first-child::after {align-self: flex-end;width: 50%;}#sk-container-id-1 div.sk-parallel-item:last-child::after {align-self: flex-start;width: 50%;}#sk-container-id-1 div.sk-parallel-item:only-child::after {width: 0;}#sk-container-id-1 div.sk-dashed-wrapped {border: 1px dashed gray;margin: 0 0.4em 0.5em 0.4em;box-sizing: border-box;padding-bottom: 0.4em;background-color: white;}#sk-container-id-1 div.sk-label label {font-family: monospace;font-weight: bold;display: inline-block;line-height: 1.2em;}#sk-container-id-1 div.sk-label-container {text-align: center;}#sk-container-id-1 div.sk-container {/* jupyter's `normalize.less` sets `[hidden] { display: none; }` but bootstrap.min.css set `[hidden] { display: none !important; }` so we also need the `!important` here to be able to override the default hidden behavior on the sphinx rendered scikit-learn.org. See: https://github.com/scikit-learn/scikit-learn/issues/21755 */display: inline-block !important;position: relative;}#sk-container-id-1 div.sk-text-repr-fallback {display: none;}</style><div id=\"sk-container-id-1\" class=\"sk-top-container\"><div class=\"sk-text-repr-fallback\"><pre>LinearRegression()</pre><b>In a Jupyter environment, please rerun this cell to show the HTML representation or trust the notebook. <br />On GitHub, the HTML representation is unable to render, please try loading this page with nbviewer.org.</b></div><div class=\"sk-container\" hidden><div class=\"sk-item\"><div class=\"sk-estimator sk-toggleable\"><input class=\"sk-toggleable__control sk-hidden--visually\" id=\"sk-estimator-id-1\" type=\"checkbox\" checked><label for=\"sk-estimator-id-1\" class=\"sk-toggleable__label sk-toggleable__label-arrow\">LinearRegression</label><div class=\"sk-toggleable__content\"><pre>LinearRegression()</pre></div></div></div></div></div>"
      ],
      "text/plain": [
       "LinearRegression()"
      ]
     },
     "execution_count": 13,
     "metadata": {},
     "output_type": "execute_result"
    }
   ],
   "source": [
    "lr.fit(X_train_sc, y_train)"
   ]
  },
  {
   "cell_type": "markdown",
   "id": "9fb5454f-1c16-4e96-8422-f9613b322c35",
   "metadata": {
    "tags": []
   },
   "source": [
    "### Based on the close relationship bewtween our R2 scores we have a well built model"
   ]
  },
  {
   "cell_type": "code",
   "execution_count": 14,
   "id": "4bc4ba3f-b348-490f-9d06-46cac63be1a2",
   "metadata": {},
   "outputs": [],
   "source": [
    "# Our Test data only underperformed by 2% meaning our model is not overfit. "
   ]
  },
  {
   "cell_type": "code",
   "execution_count": 15,
   "id": "65475f2b-8ef7-4d62-8d4e-aab495485db7",
   "metadata": {
    "tags": []
   },
   "outputs": [
    {
     "name": "stdout",
     "output_type": "stream",
     "text": [
      "Training R2: 0.8790322348655626\n",
      "Test R2: 0.8688589741575223\n"
     ]
    }
   ],
   "source": [
    "print(f'Training R2: {lr.score(X_train_sc, y_train)}')\n",
    "print(f'Test R2: {lr.score(X_test_sc, y_test)}')"
   ]
  },
  {
   "cell_type": "code",
   "execution_count": 16,
   "id": "5723651b-ebde-41f9-8be6-3d198dce056c",
   "metadata": {
    "tags": []
   },
   "outputs": [
    {
     "name": "stdout",
     "output_type": "stream",
     "text": [
      "MSE: 38059805298.22502\n",
      "RMSE: 195089.2239418288\n"
     ]
    }
   ],
   "source": [
    "preds = lr.predict(X_test_sc)\n",
    "preds = np.exp(preds)\n",
    "print(f'MSE: {mean_squared_error(y_test, preds)}')\n",
    "print(f'RMSE: {mean_squared_error(y_test, preds, squared = False)}')"
   ]
  },
  {
   "cell_type": "code",
   "execution_count": 17,
   "id": "e4f97a2d-82ba-4450-99ed-54b1fd203901",
   "metadata": {
    "tags": []
   },
   "outputs": [
    {
     "data": {
      "text/plain": [
       "array([ 134173.36769054,  176510.70921474,  209806.59518478,\n",
       "        113513.18926429,  159922.92533462,   98101.59965548,\n",
       "        115529.79790211,  163521.7609649 ,  191043.68991417,\n",
       "        157946.93579486,  161834.6063349 ,  129901.84357137,\n",
       "        155748.98352656,  279721.86644681,  158144.6127224 ,\n",
       "        121701.40740683,  133167.28670726,  115157.0728376 ,\n",
       "        190807.07320922,  206378.39893015,  151411.37243675,\n",
       "        120662.71736283,  200824.05023862,  160963.54488701,\n",
       "        209545.92382111,  119502.91421412,  119716.38374101,\n",
       "        118160.48325668,  159901.08973858,   67829.05270143,\n",
       "        106085.61669419,   99144.40655688,  228116.88365362,\n",
       "        155607.42537559,  221218.18658878,  189499.15198167,\n",
       "        108180.36542032,   96089.26718427,  134150.59148853,\n",
       "        199779.73278643,  153662.74983416,  211685.97271081,\n",
       "        148912.01745753,  162940.94463555,  202438.74129091,\n",
       "        104810.69498814,  216545.65121583,  112221.54313501,\n",
       "        122613.78374667,  111419.55633856,  110617.82880834,\n",
       "        219459.94809487,  261351.94249643,  126033.03564836,\n",
       "        100277.33355561,  162427.50285817,  161353.22018836,\n",
       "        131535.40756952,  153540.02484497,  229866.4599931 ,\n",
       "        314423.64927663,  101878.72414306,  135081.68306074,\n",
       "        188546.65474621,  176945.55465485,  311156.04024284,\n",
       "         91245.40824586,  176106.17772836,   86057.3441015 ,\n",
       "        145280.79969434,   85562.72261595,  398444.46100443,\n",
       "        183371.37274288,  183103.57905805,  139975.96061303,\n",
       "        200933.94666839,  150340.27877972,  139379.63161262,\n",
       "         99661.25248895,  348276.12811849,  212907.31058202,\n",
       "        108135.21788088,  119913.78197327,  117526.51298106,\n",
       "        180172.76274767,  360849.02938151,  119648.06769974,\n",
       "        166206.02983608,  254586.25037544,  157202.82088085,\n",
       "        134129.0921254 ,  109543.44251016,  131453.09333481,\n",
       "        185600.93177444,  123158.74863071,  132976.28525626,\n",
       "        152018.12277854,  230049.54399527,  185595.4988295 ,\n",
       "        225230.99135356,  353053.39534412,  184885.58199763,\n",
       "        114772.70680997,  517996.9990325 ,  149562.58782258,\n",
       "        123518.57838365,  160734.78747079,  198948.65712028,\n",
       "        186669.3747808 ,  122998.42999324,  158433.17625903,\n",
       "        232493.66116495,  123244.03103279,  154762.42475919,\n",
       "        238769.77409455,  693215.6814063 ,  159388.42561035,\n",
       "        109288.09286054,  326860.65681251,  185893.58343432,\n",
       "        403056.20337018,  275106.80433547,  283386.91893881,\n",
       "        179011.95074515,  120634.14759228,  355881.91310357,\n",
       "        129713.28978425,  130512.15767013,  108010.10431051,\n",
       "        280195.80058409,  130501.11577428,  172993.25635816,\n",
       "        141630.71140618,  170271.20463608,  148866.59901368,\n",
       "        206061.42543268,  223217.8471355 ,  195147.32650125,\n",
       "        176102.37840152,  132099.54102569,  182413.96944852,\n",
       "        128140.78540816,  131178.66994777,  167533.39639133,\n",
       "        109123.86254771,  137059.48018402,  141145.2208495 ,\n",
       "        162342.58807293,   83364.30191148,  235392.87561783,\n",
       "        211975.73268743,  160628.96297296,  124754.45195384,\n",
       "        109439.43860239,  120525.61158236,  124962.91508682,\n",
       "         87098.16720312,  135902.95131967,  248214.95276625,\n",
       "        262833.70041569,  201237.52343453,  124740.78225838,\n",
       "        127183.1294859 ,  555071.30590751,  260533.34531212,\n",
       "        252687.93827597,  177817.75171135,  171510.53309917,\n",
       "        245261.89566259,  215190.12867994,  790782.09139325,\n",
       "        144520.49739566,  161828.18393058,  157431.53531171,\n",
       "        222127.48589885,  186850.5919329 ,   94991.41218866,\n",
       "        166992.81098412,   91943.95386148,  125251.38063134,\n",
       "        100131.65298291,  182590.82010116,  269646.8593345 ,\n",
       "        189841.39122863,  157323.17442712,  114691.28344414,\n",
       "        190083.90940084,  191206.06853982,  120166.16814306,\n",
       "         71760.34045779,  167969.13175123,  119914.0061254 ,\n",
       "        118071.00787454,  109162.78193356,  179684.04505182,\n",
       "        145212.60618461,  247679.40988703,  117258.78525497,\n",
       "        150613.21593377,  146671.42616074,  363635.79366204,\n",
       "        170822.02148805,  139182.05233182,  183924.70979877,\n",
       "        134956.72395258,   90572.49224619,  137225.80276304,\n",
       "        147676.30580212,  215732.27365549,  225771.74232521,\n",
       "        176355.67456453,  179554.50150021,  113239.12284535,\n",
       "       2084180.1052876 ,  245264.29085639,  192941.65576034,\n",
       "        252800.14148144,  155075.68986029,   93106.32986699,\n",
       "        135104.85761066,  170047.36714924,  139177.41395897,\n",
       "        151665.16046935,  185044.56230096,  115792.91978159,\n",
       "        114429.6273185 ,  272662.5668399 ,  238438.56342149,\n",
       "        136434.70245612,  270918.23251773,  162104.00135327,\n",
       "         91568.34536732,  105772.92317548,   92285.67001638,\n",
       "        294053.33909562,  165173.62287092,   98440.43158951,\n",
       "        442805.50544768,  395271.84190833,  202131.13404497,\n",
       "        261389.33174063,  161241.46069327,  307851.77229389,\n",
       "        264441.26852514,  388748.39664877,  268212.17619031,\n",
       "        111831.50126061,  115695.14138249,  185378.68806396,\n",
       "        317709.13547335,  238057.51303877,  148954.01028904,\n",
       "        245559.62326933,  227795.32632554,  179278.25224819,\n",
       "         91225.50786   ,   96649.73739762,  476924.29540279,\n",
       "        227185.16932671,  311801.26353995,  187201.20571498,\n",
       "        137629.69386103,  112695.61415922,  135513.48183515,\n",
       "        280099.73463649,  153707.99278778,  136580.3390482 ,\n",
       "        207814.96156195,  151162.81903774,  148607.09715035,\n",
       "        161227.35884397,  200307.52010773,  164586.48873696,\n",
       "        439481.8568992 ,  109609.50293398,  135976.56144501,\n",
       "        144813.71845662,  204901.30116412,   97653.97790425,\n",
       "        116504.5212053 ,  247674.929392  ,  136288.13312199,\n",
       "        123484.23190208,  106376.71387147,  136100.42489934,\n",
       "        278295.94960526,  215057.54415058,  101574.50138819,\n",
       "         89978.7589741 ,  124737.42327169,  120534.67053072,\n",
       "        144200.89263932,   87741.36205435,   96325.54796102,\n",
       "        165357.85666541,  145280.79969434,  199276.66556743,\n",
       "        228809.07212434,  239575.44381534,  118475.87476108,\n",
       "        160121.59290356,  319650.77460085,  126146.62150264,\n",
       "        132301.05181347,   80321.30901861,   96498.18912448,\n",
       "        953533.57282128,  200361.37242262,  132383.00003228,\n",
       "        126894.94831387,  200919.82746755,  201626.561685  ,\n",
       "        251634.91128318,  288198.87716258,  123938.08419525,\n",
       "        298110.57114599,  359126.56673811,  253764.12817522,\n",
       "        238620.54731119,  114202.89866922,   76110.68690546,\n",
       "        126253.18468254,  125259.65272552,  264810.04786201,\n",
       "        116514.09761508,  130145.0683823 ,  146792.76368494,\n",
       "        170426.22285709,  224397.65190379,  142780.70033523,\n",
       "        160772.57186199,  184680.15613157,  138639.73501294,\n",
       "        172483.88246373,  106364.53656237,  139800.33308932,\n",
       "        105391.85687658,  113709.54905965,  121146.82932371,\n",
       "        145181.90361431,  236506.09491573,  100158.76234268,\n",
       "        138997.33155338,  179089.02680484,  288083.26773913,\n",
       "        226822.291654  ,  175079.93149661,  109518.93240556,\n",
       "        203773.82693039,  132760.54453866,  118950.92460784,\n",
       "        153241.4459546 ,  126711.07166127,  262767.28418536,\n",
       "        132506.02089255,  353798.56060374,  151675.81011933,\n",
       "        208977.54098853,  260544.01038718,  116144.52065586,\n",
       "        142644.76959068,  151277.05264573,   90907.20434764,\n",
       "        166645.84339072,  220866.23419868,  240505.00519818,\n",
       "        206354.83348151,  202933.15961981,  228125.98188817,\n",
       "        124635.2133058 ,  198807.28832026,  110959.02200814,\n",
       "        159105.14639773,  396495.26055939,  120766.21014393,\n",
       "        316215.64429055,  158968.83641364,  246488.63937036,\n",
       "        189849.26814409,  123994.57389217,  153569.38769753,\n",
       "        128555.10269455,  352346.42447195,  333156.28734802,\n",
       "        214270.39960547,  204538.85730864,  144660.00027935,\n",
       "        181710.26773421,  163135.44800483,  144290.95886968,\n",
       "         98476.26376885,  278750.01877557,  162502.23151752,\n",
       "        131846.93355861,  203771.72710166,   69486.37985561,\n",
       "        188583.45593054,  169384.68015933,  121971.80138383,\n",
       "         98126.14190212,  246594.88898716,  229018.41182992,\n",
       "        113456.54745005,  287249.70652414,  140590.96834874,\n",
       "        112388.68989647,  127303.02882713,  227385.14480906,\n",
       "        254582.4803574 ,  122587.10797544,  116129.09786981,\n",
       "        146594.57549906,  297031.97227634,  120567.03605613,\n",
       "        254599.210098  ,  317808.88881018,  123464.78498448,\n",
       "        251739.18293719,  117037.72944967,  169229.52850563,\n",
       "        294698.90421487,  130151.24570803,  226942.74112617,\n",
       "        133363.26745134,  243337.86507589,  407187.34286794,\n",
       "        175230.21295926,  202155.37216587,  140879.75160281,\n",
       "        288304.06417284,  102722.62708983,  135222.9753952 ,\n",
       "        130296.4931341 ,  201203.0603464 ,  121699.9388506 ,\n",
       "        309682.11903516,  196656.92879581,  148709.23106865,\n",
       "        154270.03571753,  141448.28108179,  230454.88542574,\n",
       "        126476.20966614,  128043.21573466,  166406.47878528,\n",
       "        158482.2083838 ,  229991.88806353,   62291.69870657,\n",
       "         93450.12939945,  283418.10153321,  124517.85176794,\n",
       "        192026.94381255,  274097.34368962,  197501.98181493,\n",
       "        146989.81863868,  193604.85616235,  228692.47286515,\n",
       "        204257.33761384,  113943.27432035,  227461.14240374,\n",
       "        121514.24814024,  137681.18727914,  117956.0465698 ,\n",
       "        130569.14850777,  874413.90007185,  116843.85069734,\n",
       "        223485.96066596,  222458.22060067,  250631.53418472,\n",
       "        115617.98541728,  122287.91239631,  147956.60780204,\n",
       "        246601.72281986,  163145.48461273,  109533.63008601,\n",
       "        253357.76099822,  235580.89533305,  123830.64170482,\n",
       "        141777.80415761,   98965.94947337,  190588.36103829,\n",
       "         80609.45858025,  234160.67899046,  110445.29826855,\n",
       "        181231.09173399,  322001.61119689,  137622.79091242,\n",
       "        144402.7671493 ,  159942.29267669,  174746.09257551,\n",
       "        135359.13964769,  125608.59372942,  221779.9476683 ,\n",
       "        182338.95966004,  215791.76851923,  337148.84139958,\n",
       "        192061.68401038,   97139.06460038,  130833.21051653,\n",
       "        159321.17273685,  119090.63499058,  182664.51032915,\n",
       "        277280.28251784,  203645.96605279,  165983.43693418,\n",
       "        245230.50613525,  139660.93590553,  310865.2836289 ,\n",
       "        105143.04113237,  119398.45338782,  257969.93628016,\n",
       "        108855.29644072,  129350.11486886,  131522.43779161,\n",
       "        137147.46890698,   67106.92569646,  170268.96275052,\n",
       "        139762.41285659,  190856.82250354,  283219.28127781,\n",
       "        294085.32872218,  106692.58221893,  128937.19633918,\n",
       "        170648.60245834,  116382.74531744,  205998.43610014,\n",
       "        452994.4450354 ,  160039.03127064,  119181.55484275,\n",
       "        140487.28164705,   65386.20659488,  120668.5954674 ,\n",
       "        199121.75891834,  144223.50061136,  193645.5042042 ,\n",
       "        184164.28033036,  136433.2020178 ,   88023.71103577,\n",
       "        269965.39783193,  147031.34761229,  174139.46432462,\n",
       "        152464.89570669,  103824.3658917 ,   82646.69742915,\n",
       "        151413.7434747 ,  236301.15353117,  310031.71709699,\n",
       "        240328.54402539,  121276.62954523,  103093.714844  ,\n",
       "        275741.84069829,  121206.86824175,  258759.35390331,\n",
       "         89681.5764543 ,  211486.69200953,  230446.11930503,\n",
       "        105957.94867397,  128230.77116234,  135802.07127312,\n",
       "        118739.50448963,  175298.27171838,  114668.03208302,\n",
       "        164213.05742433,  184255.74796947,  140925.12966943,\n",
       "        136832.41019662,  125214.29799967,  150479.1633161 ,\n",
       "        210598.86289947,  131071.4860971 ,  134013.74283416,\n",
       "        168135.55801228,  133812.26086332,   98214.66728727,\n",
       "        143097.32210478,  185296.82143757,  124383.98338189,\n",
       "        186970.05123085,  145280.79969434,  175971.31973226,\n",
       "        112644.88619726,  143554.27754293,  137933.72623911,\n",
       "        308757.44077632,   88546.03567826,  146506.38619049,\n",
       "        153254.64393058,  153140.43111756,  109362.50640826,\n",
       "        291529.67618589,  214481.05577337,  143675.69006705,\n",
       "        115128.27101592,  132383.85053844,  123116.07269748,\n",
       "        356525.84166032,  221486.37938803,  132893.03796938,\n",
       "        145457.4183912 ,  109087.51210304,  347157.43661851,\n",
       "        131186.34519979,  222177.95099096,  127889.75393071,\n",
       "        168544.58008364,  212578.90372495,   93230.20623827,\n",
       "        118604.55169018,  107071.99400619,  180115.80054608,\n",
       "         98268.74054141,  121817.89677032,  349974.52051438,\n",
       "        201768.52103564,  111829.66581763,  137602.96390281,\n",
       "         57240.0182148 ,  205261.44812538,  272780.75363016,\n",
       "         72688.30827486,  172326.06754886,  192525.91558966,\n",
       "        125859.98486905,  135116.54883338,  105824.69004284,\n",
       "        133387.83549483,  155332.26557596,  189141.92775009,\n",
       "        122201.01832026,  363834.21819168,  163486.85261509,\n",
       "        178366.87113937,  209114.40426548,  128846.83946553,\n",
       "         68264.39648053,  156219.66498458,  162251.22697633,\n",
       "        177286.28969097,  162487.0165422 ,  146465.51208057,\n",
       "        141971.55557276,  322978.50849729,  127313.46470337,\n",
       "        211358.15815874,  267286.51152375,  153206.92058654,\n",
       "         81490.90064793,  269184.66202754,  165812.8622994 ,\n",
       "        151356.09597146,  209248.27428077,  136011.55872574,\n",
       "        122259.10268213,  104101.50959818,  163923.57380477,\n",
       "         72849.28527081,  149808.39513209,  212592.02313329,\n",
       "        131994.06643309,  245417.6332176 ,  170691.20075574,\n",
       "        149245.44401231,  214475.39101955,  178130.88645686,\n",
       "        260940.78187958,  438140.61411629,  251469.275894  ,\n",
       "        234267.39485913,  154818.51381572,  168819.02228841,\n",
       "        309654.10845667,  223486.14825654,  297586.40144196,\n",
       "        252161.89114229,  125458.89771197,  124480.32240217,\n",
       "        138757.61477238,  135304.43069192,   92943.70886429,\n",
       "        139453.50017386,  123336.37254512,  345179.85813596,\n",
       "        212910.6680533 ,  178970.08290464,  262931.58595959,\n",
       "        197622.40546365,  161540.13740859,  205678.15589099,\n",
       "        407931.43261289,  128412.59226668,  183617.93305268,\n",
       "         86818.35601789,  131781.72559507,  253025.70009743,\n",
       "        108596.28543117,  193197.83023911,  168200.82247596,\n",
       "        221495.07354433,  337878.71128154,  107195.94300614,\n",
       "        254138.80293733,  145299.60690248,  146255.03877686,\n",
       "        150952.65600964,  116759.78248075,  320758.45847019,\n",
       "        259517.16054735,  147127.75242316,  129837.30572862,\n",
       "        105760.12316911,  316603.70978688,  223042.43461497,\n",
       "         89297.56147504,  123867.48829212,  134113.60360853,\n",
       "        129610.01320636,  280174.34330652,  307835.02673369,\n",
       "        203593.26454335,  181258.24829132,  257656.68908054,\n",
       "        208754.44800857,  251646.92928528,  147276.79305233,\n",
       "        116296.22224896,  285416.53231085,  189723.66504054,\n",
       "        177761.53246373,  127320.24345029,  280657.18169516,\n",
       "         87580.3864213 ,  219009.130755  ,  186463.96942771,\n",
       "        266367.6562474 ,  139570.41230313,  174380.17311765,\n",
       "        158758.77858096,  145460.8914733 ,  155953.36825307,\n",
       "        147113.19364994,  121955.17127762,  225974.64909928,\n",
       "        189122.43710145,  154186.35777438,  113476.40888702,\n",
       "        200681.37683617,  198478.56756216,  188948.84702409,\n",
       "        206912.51042174,  130666.04822851,  330599.02276694,\n",
       "        277705.74962994,  145756.6173433 ,  132365.65043785,\n",
       "        174275.79247742,  140186.07053659,  125711.85126271,\n",
       "        490741.3051263 ,   88136.1500513 ,  150063.88018682,\n",
       "        206576.23758988,  138185.37303836,  227958.56298417,\n",
       "        136836.50393809,  228518.66817445,  159642.10341118,\n",
       "        332649.43263259,  183350.45283604,  191730.28625648,\n",
       "        304374.76851897,  163392.67789282,  220711.91207936,\n",
       "        152485.13191191,  141934.75636381,  252572.82270232,\n",
       "        112048.41396588,  164223.28620363,  223612.54198822,\n",
       "        148954.57810811,  124680.72325635,  149771.88603275,\n",
       "        161746.14214666,  416027.50033988,   94515.16705225,\n",
       "        133046.81925407,  108984.97480705,  140559.32309714,\n",
       "        265171.38451991,  122878.34903009,  286769.44431088,\n",
       "        156524.59128282,  174997.27112286,  241939.8312744 ,\n",
       "        173198.595669  ,  292191.29442652,  165203.96632354,\n",
       "        190269.74297771,  161143.54369678,  222909.18894632,\n",
       "        227917.19625251,  198885.38583016,  134238.96928811,\n",
       "        112074.94009406,  175439.63692092,   83460.93139896,\n",
       "        262202.40056857,  108690.41458805,  115243.11306228,\n",
       "        194863.68707572,  125037.09496892,  109860.66836303,\n",
       "        133216.07782474,  298139.05167688,  141505.66431799,\n",
       "        156040.19629688,  208760.50179153,  214717.18168061,\n",
       "        216017.39142488,   96320.80483359,  108673.33254411,\n",
       "        168798.43223405,  157682.98166343,  106935.67881759,\n",
       "        365282.89305149,  117821.72684227,  165240.82437347,\n",
       "        224818.8529009 ,  429085.72967978,  146088.85601595,\n",
       "        180940.03890222,  132974.68009616,  171978.68337859,\n",
       "        145512.77715836,  289657.89504525,  208343.91220757,\n",
       "        115840.08247832,  115064.68066469,  291555.3683397 ,\n",
       "        171473.13108657,  125309.99149187,  117304.98901461,\n",
       "        193354.91762431,  179093.98560924,  249287.62386309,\n",
       "        124281.17732593,  172948.98432301,  153386.0872057 ,\n",
       "        275102.87549828,  213605.3793263 ,  118817.61833294,\n",
       "        172742.91703873,  158424.09153368,  147758.01139948,\n",
       "        126405.29223563,  122625.77510482,  182443.88800346,\n",
       "         98989.80121545,  212504.85672989,  108865.84572516,\n",
       "        205565.59551505,  111806.14780896,  352633.91276968,\n",
       "        133709.95482939,  121640.4835036 ,  149709.01254411,\n",
       "        144943.76110976,  204789.12491859,  193345.5418642 ,\n",
       "        208263.64919883,  145361.94257807,  207776.02433041,\n",
       "        244829.30818518,  337838.84158549,  205945.04510572,\n",
       "        171788.61003261,  221215.85555327,  130515.77184604,\n",
       "        112284.16122855,  108120.81828868])"
      ]
     },
     "execution_count": 17,
     "metadata": {},
     "output_type": "execute_result"
    }
   ],
   "source": [
    "test_sc = sc.transform(eda_test[features])\n",
    "new_preds = np.exp(lr.predict(test_sc))\n",
    "new_preds"
   ]
  },
  {
   "cell_type": "code",
   "execution_count": 18,
   "id": "edac829e-344f-491e-8913-51c6bdcd66d5",
   "metadata": {
    "tags": []
   },
   "outputs": [],
   "source": [
    "eda_test['saleprice'] = new_preds "
   ]
  },
  {
   "cell_type": "code",
   "execution_count": 19,
   "id": "c5ee5b91-b983-4f04-8fd6-a6806367be80",
   "metadata": {
    "tags": []
   },
   "outputs": [],
   "source": [
    "preds = preds.round(4)"
   ]
  },
  {
   "cell_type": "code",
   "execution_count": 20,
   "id": "3af6770a-c8e9-4586-8525-3793e3e5f4ab",
   "metadata": {
    "tags": []
   },
   "outputs": [],
   "source": [
    "coefs = pd.DataFrame(data = lr.coef_, index = X.columns, columns = ['Coefs'])"
   ]
  },
  {
   "cell_type": "code",
   "execution_count": 21,
   "id": "459d35b9-14f7-4f6e-aba1-101415e59e23",
   "metadata": {
    "tags": []
   },
   "outputs": [
    {
     "data": {
      "text/html": [
       "<div>\n",
       "<style scoped>\n",
       "    .dataframe tbody tr th:only-of-type {\n",
       "        vertical-align: middle;\n",
       "    }\n",
       "\n",
       "    .dataframe tbody tr th {\n",
       "        vertical-align: top;\n",
       "    }\n",
       "\n",
       "    .dataframe thead th {\n",
       "        text-align: right;\n",
       "    }\n",
       "</style>\n",
       "<table border=\"1\" class=\"dataframe\">\n",
       "  <thead>\n",
       "    <tr style=\"text-align: right;\">\n",
       "      <th></th>\n",
       "      <th>Coefs</th>\n",
       "    </tr>\n",
       "  </thead>\n",
       "  <tbody>\n",
       "    <tr>\n",
       "      <th>gr_liv_area</th>\n",
       "      <td>0.122022</td>\n",
       "    </tr>\n",
       "    <tr>\n",
       "      <th>overall_qual</th>\n",
       "      <td>0.102136</td>\n",
       "    </tr>\n",
       "    <tr>\n",
       "      <th>year_built</th>\n",
       "      <td>0.088330</td>\n",
       "    </tr>\n",
       "    <tr>\n",
       "      <th>1st_flr_sf</th>\n",
       "      <td>0.074259</td>\n",
       "    </tr>\n",
       "    <tr>\n",
       "      <th>overall_cond</th>\n",
       "      <td>0.057246</td>\n",
       "    </tr>\n",
       "    <tr>\n",
       "      <th>garage_cars</th>\n",
       "      <td>0.033304</td>\n",
       "    </tr>\n",
       "    <tr>\n",
       "      <th>lot_area</th>\n",
       "      <td>0.030575</td>\n",
       "    </tr>\n",
       "    <tr>\n",
       "      <th>bsmt_qual</th>\n",
       "      <td>0.028556</td>\n",
       "    </tr>\n",
       "    <tr>\n",
       "      <th>kitchen_qual</th>\n",
       "      <td>0.023362</td>\n",
       "    </tr>\n",
       "    <tr>\n",
       "      <th>heating_qc</th>\n",
       "      <td>0.018140</td>\n",
       "    </tr>\n",
       "    <tr>\n",
       "      <th>exter_qual</th>\n",
       "      <td>0.014513</td>\n",
       "    </tr>\n",
       "    <tr>\n",
       "      <th>bsmt_cond</th>\n",
       "      <td>0.011933</td>\n",
       "    </tr>\n",
       "    <tr>\n",
       "      <th>bldg_type</th>\n",
       "      <td>0.010190</td>\n",
       "    </tr>\n",
       "    <tr>\n",
       "      <th>year_remod/add</th>\n",
       "      <td>0.008137</td>\n",
       "    </tr>\n",
       "    <tr>\n",
       "      <th>exter_cond</th>\n",
       "      <td>0.007215</td>\n",
       "    </tr>\n",
       "    <tr>\n",
       "      <th>garage_area</th>\n",
       "      <td>0.001337</td>\n",
       "    </tr>\n",
       "    <tr>\n",
       "      <th>land_contour</th>\n",
       "      <td>-0.007796</td>\n",
       "    </tr>\n",
       "    <tr>\n",
       "      <th>house_style</th>\n",
       "      <td>-0.008009</td>\n",
       "    </tr>\n",
       "    <tr>\n",
       "      <th>full_bath</th>\n",
       "      <td>-0.008140</td>\n",
       "    </tr>\n",
       "    <tr>\n",
       "      <th>totrms_abvgrd</th>\n",
       "      <td>-0.009672</td>\n",
       "    </tr>\n",
       "  </tbody>\n",
       "</table>\n",
       "</div>"
      ],
      "text/plain": [
       "                   Coefs\n",
       "gr_liv_area     0.122022\n",
       "overall_qual    0.102136\n",
       "year_built      0.088330\n",
       "1st_flr_sf      0.074259\n",
       "overall_cond    0.057246\n",
       "garage_cars     0.033304\n",
       "lot_area        0.030575\n",
       "bsmt_qual       0.028556\n",
       "kitchen_qual    0.023362\n",
       "heating_qc      0.018140\n",
       "exter_qual      0.014513\n",
       "bsmt_cond       0.011933\n",
       "bldg_type       0.010190\n",
       "year_remod/add  0.008137\n",
       "exter_cond      0.007215\n",
       "garage_area     0.001337\n",
       "land_contour   -0.007796\n",
       "house_style    -0.008009\n",
       "full_bath      -0.008140\n",
       "totrms_abvgrd  -0.009672"
      ]
     },
     "execution_count": 21,
     "metadata": {},
     "output_type": "execute_result"
    }
   ],
   "source": [
    "coefs.sort_values(by = 'Coefs', ascending=False)\n"
   ]
  },
  {
   "cell_type": "code",
   "execution_count": 22,
   "id": "86611ab9-0ee1-4f60-8588-d4dd5de7b22a",
   "metadata": {},
   "outputs": [],
   "source": [
    "coefs.to_csv('../datasets/coefs_lr.csv', index=False)"
   ]
  }
 ],
 "metadata": {
  "kernelspec": {
   "display_name": "Python 3 (ipykernel)",
   "language": "python",
   "name": "python3"
  },
  "language_info": {
   "codemirror_mode": {
    "name": "ipython",
    "version": 3
   },
   "file_extension": ".py",
   "mimetype": "text/x-python",
   "name": "python",
   "nbconvert_exporter": "python",
   "pygments_lexer": "ipython3",
   "version": "3.11.4"
  }
 },
 "nbformat": 4,
 "nbformat_minor": 5
}
