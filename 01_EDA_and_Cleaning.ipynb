{
 "cells": [
  {
   "cell_type": "markdown",
   "id": "a41f282f-3823-42f8-ae04-3275b44c5d0a",
   "metadata": {},
   "source": [
    "### EDA and Cleaning"
   ]
  },
  {
   "cell_type": "markdown",
   "id": "10646b79-55cf-4248-aeeb-a4f34b02c126",
   "metadata": {},
   "source": [
    "Loading in Imports "
   ]
  },
  {
   "cell_type": "code",
   "execution_count": 1,
   "id": "d78db160-b17c-479b-a2a5-e620ac12f4e2",
   "metadata": {
    "tags": []
   },
   "outputs": [],
   "source": [
    "import pandas as pd\n",
    "import numpy as np\n",
    "import seaborn as sns\n",
    "import matplotlib.pyplot as plt"
   ]
  },
  {
   "cell_type": "markdown",
   "id": "154cf952-e57f-4755-9ca2-a4bacd45c746",
   "metadata": {},
   "source": [
    "Read in Train and Test datasets "
   ]
  },
  {
   "cell_type": "code",
   "execution_count": 2,
   "id": "40ff13ff-8b56-4e1c-9365-9233eadf313c",
   "metadata": {
    "tags": []
   },
   "outputs": [],
   "source": [
    "train = pd.read_csv('../datasets/train.csv')\n",
    "test = pd.read_csv('../datasets/test.csv')"
   ]
  },
  {
   "cell_type": "code",
   "execution_count": 3,
   "id": "c7acabbd-7abb-4cb9-a24a-12fcdab18d50",
   "metadata": {
    "tags": []
   },
   "outputs": [],
   "source": [
    "# renaming columns \n",
    "train.columns = train.columns.str.lower().str.replace(' ', '_')\n",
    "test.columns = test.columns.str.lower().str.replace(' ', '_')"
   ]
  },
  {
   "cell_type": "code",
   "execution_count": 4,
   "id": "a9c86e38-52e7-4576-ae70-f894bf0032cc",
   "metadata": {
    "tags": []
   },
   "outputs": [
    {
     "data": {
      "text/html": [
       "<div>\n",
       "<style scoped>\n",
       "    .dataframe tbody tr th:only-of-type {\n",
       "        vertical-align: middle;\n",
       "    }\n",
       "\n",
       "    .dataframe tbody tr th {\n",
       "        vertical-align: top;\n",
       "    }\n",
       "\n",
       "    .dataframe thead th {\n",
       "        text-align: right;\n",
       "    }\n",
       "</style>\n",
       "<table border=\"1\" class=\"dataframe\">\n",
       "  <thead>\n",
       "    <tr style=\"text-align: right;\">\n",
       "      <th></th>\n",
       "      <th>id</th>\n",
       "      <th>pid</th>\n",
       "      <th>ms_subclass</th>\n",
       "      <th>ms_zoning</th>\n",
       "      <th>lot_frontage</th>\n",
       "      <th>lot_area</th>\n",
       "      <th>street</th>\n",
       "      <th>alley</th>\n",
       "      <th>lot_shape</th>\n",
       "      <th>land_contour</th>\n",
       "      <th>...</th>\n",
       "      <th>screen_porch</th>\n",
       "      <th>pool_area</th>\n",
       "      <th>pool_qc</th>\n",
       "      <th>fence</th>\n",
       "      <th>misc_feature</th>\n",
       "      <th>misc_val</th>\n",
       "      <th>mo_sold</th>\n",
       "      <th>yr_sold</th>\n",
       "      <th>sale_type</th>\n",
       "      <th>saleprice</th>\n",
       "    </tr>\n",
       "  </thead>\n",
       "  <tbody>\n",
       "    <tr>\n",
       "      <th>0</th>\n",
       "      <td>109</td>\n",
       "      <td>533352170</td>\n",
       "      <td>60</td>\n",
       "      <td>RL</td>\n",
       "      <td>NaN</td>\n",
       "      <td>13517</td>\n",
       "      <td>Pave</td>\n",
       "      <td>NaN</td>\n",
       "      <td>IR1</td>\n",
       "      <td>Lvl</td>\n",
       "      <td>...</td>\n",
       "      <td>0</td>\n",
       "      <td>0</td>\n",
       "      <td>NaN</td>\n",
       "      <td>NaN</td>\n",
       "      <td>NaN</td>\n",
       "      <td>0</td>\n",
       "      <td>3</td>\n",
       "      <td>2010</td>\n",
       "      <td>WD</td>\n",
       "      <td>130500</td>\n",
       "    </tr>\n",
       "    <tr>\n",
       "      <th>1</th>\n",
       "      <td>544</td>\n",
       "      <td>531379050</td>\n",
       "      <td>60</td>\n",
       "      <td>RL</td>\n",
       "      <td>43.0</td>\n",
       "      <td>11492</td>\n",
       "      <td>Pave</td>\n",
       "      <td>NaN</td>\n",
       "      <td>IR1</td>\n",
       "      <td>Lvl</td>\n",
       "      <td>...</td>\n",
       "      <td>0</td>\n",
       "      <td>0</td>\n",
       "      <td>NaN</td>\n",
       "      <td>NaN</td>\n",
       "      <td>NaN</td>\n",
       "      <td>0</td>\n",
       "      <td>4</td>\n",
       "      <td>2009</td>\n",
       "      <td>WD</td>\n",
       "      <td>220000</td>\n",
       "    </tr>\n",
       "    <tr>\n",
       "      <th>2</th>\n",
       "      <td>153</td>\n",
       "      <td>535304180</td>\n",
       "      <td>20</td>\n",
       "      <td>RL</td>\n",
       "      <td>68.0</td>\n",
       "      <td>7922</td>\n",
       "      <td>Pave</td>\n",
       "      <td>NaN</td>\n",
       "      <td>Reg</td>\n",
       "      <td>Lvl</td>\n",
       "      <td>...</td>\n",
       "      <td>0</td>\n",
       "      <td>0</td>\n",
       "      <td>NaN</td>\n",
       "      <td>NaN</td>\n",
       "      <td>NaN</td>\n",
       "      <td>0</td>\n",
       "      <td>1</td>\n",
       "      <td>2010</td>\n",
       "      <td>WD</td>\n",
       "      <td>109000</td>\n",
       "    </tr>\n",
       "    <tr>\n",
       "      <th>3</th>\n",
       "      <td>318</td>\n",
       "      <td>916386060</td>\n",
       "      <td>60</td>\n",
       "      <td>RL</td>\n",
       "      <td>73.0</td>\n",
       "      <td>9802</td>\n",
       "      <td>Pave</td>\n",
       "      <td>NaN</td>\n",
       "      <td>Reg</td>\n",
       "      <td>Lvl</td>\n",
       "      <td>...</td>\n",
       "      <td>0</td>\n",
       "      <td>0</td>\n",
       "      <td>NaN</td>\n",
       "      <td>NaN</td>\n",
       "      <td>NaN</td>\n",
       "      <td>0</td>\n",
       "      <td>4</td>\n",
       "      <td>2010</td>\n",
       "      <td>WD</td>\n",
       "      <td>174000</td>\n",
       "    </tr>\n",
       "    <tr>\n",
       "      <th>4</th>\n",
       "      <td>255</td>\n",
       "      <td>906425045</td>\n",
       "      <td>50</td>\n",
       "      <td>RL</td>\n",
       "      <td>82.0</td>\n",
       "      <td>14235</td>\n",
       "      <td>Pave</td>\n",
       "      <td>NaN</td>\n",
       "      <td>IR1</td>\n",
       "      <td>Lvl</td>\n",
       "      <td>...</td>\n",
       "      <td>0</td>\n",
       "      <td>0</td>\n",
       "      <td>NaN</td>\n",
       "      <td>NaN</td>\n",
       "      <td>NaN</td>\n",
       "      <td>0</td>\n",
       "      <td>3</td>\n",
       "      <td>2010</td>\n",
       "      <td>WD</td>\n",
       "      <td>138500</td>\n",
       "    </tr>\n",
       "  </tbody>\n",
       "</table>\n",
       "<p>5 rows × 81 columns</p>\n",
       "</div>"
      ],
      "text/plain": [
       "    id        pid  ms_subclass ms_zoning  lot_frontage  lot_area street alley  \\\n",
       "0  109  533352170           60        RL           NaN     13517   Pave   NaN   \n",
       "1  544  531379050           60        RL          43.0     11492   Pave   NaN   \n",
       "2  153  535304180           20        RL          68.0      7922   Pave   NaN   \n",
       "3  318  916386060           60        RL          73.0      9802   Pave   NaN   \n",
       "4  255  906425045           50        RL          82.0     14235   Pave   NaN   \n",
       "\n",
       "  lot_shape land_contour  ... screen_porch pool_area pool_qc fence  \\\n",
       "0       IR1          Lvl  ...            0         0     NaN   NaN   \n",
       "1       IR1          Lvl  ...            0         0     NaN   NaN   \n",
       "2       Reg          Lvl  ...            0         0     NaN   NaN   \n",
       "3       Reg          Lvl  ...            0         0     NaN   NaN   \n",
       "4       IR1          Lvl  ...            0         0     NaN   NaN   \n",
       "\n",
       "  misc_feature misc_val mo_sold yr_sold  sale_type  saleprice  \n",
       "0          NaN        0       3    2010        WD      130500  \n",
       "1          NaN        0       4    2009        WD      220000  \n",
       "2          NaN        0       1    2010        WD      109000  \n",
       "3          NaN        0       4    2010        WD      174000  \n",
       "4          NaN        0       3    2010        WD      138500  \n",
       "\n",
       "[5 rows x 81 columns]"
      ]
     },
     "execution_count": 4,
     "metadata": {},
     "output_type": "execute_result"
    }
   ],
   "source": [
    "train.head()"
   ]
  },
  {
   "cell_type": "code",
   "execution_count": 5,
   "id": "63b9ef3c-7845-42e5-9d40-2cec2cd65d68",
   "metadata": {
    "tags": []
   },
   "outputs": [
    {
     "data": {
      "text/html": [
       "<div>\n",
       "<style scoped>\n",
       "    .dataframe tbody tr th:only-of-type {\n",
       "        vertical-align: middle;\n",
       "    }\n",
       "\n",
       "    .dataframe tbody tr th {\n",
       "        vertical-align: top;\n",
       "    }\n",
       "\n",
       "    .dataframe thead th {\n",
       "        text-align: right;\n",
       "    }\n",
       "</style>\n",
       "<table border=\"1\" class=\"dataframe\">\n",
       "  <thead>\n",
       "    <tr style=\"text-align: right;\">\n",
       "      <th></th>\n",
       "      <th>id</th>\n",
       "      <th>pid</th>\n",
       "      <th>ms_subclass</th>\n",
       "      <th>ms_zoning</th>\n",
       "      <th>lot_frontage</th>\n",
       "      <th>lot_area</th>\n",
       "      <th>street</th>\n",
       "      <th>alley</th>\n",
       "      <th>lot_shape</th>\n",
       "      <th>land_contour</th>\n",
       "      <th>...</th>\n",
       "      <th>3ssn_porch</th>\n",
       "      <th>screen_porch</th>\n",
       "      <th>pool_area</th>\n",
       "      <th>pool_qc</th>\n",
       "      <th>fence</th>\n",
       "      <th>misc_feature</th>\n",
       "      <th>misc_val</th>\n",
       "      <th>mo_sold</th>\n",
       "      <th>yr_sold</th>\n",
       "      <th>sale_type</th>\n",
       "    </tr>\n",
       "  </thead>\n",
       "  <tbody>\n",
       "    <tr>\n",
       "      <th>0</th>\n",
       "      <td>2658</td>\n",
       "      <td>902301120</td>\n",
       "      <td>190</td>\n",
       "      <td>RM</td>\n",
       "      <td>69.0</td>\n",
       "      <td>9142</td>\n",
       "      <td>Pave</td>\n",
       "      <td>Grvl</td>\n",
       "      <td>Reg</td>\n",
       "      <td>Lvl</td>\n",
       "      <td>...</td>\n",
       "      <td>0</td>\n",
       "      <td>0</td>\n",
       "      <td>0</td>\n",
       "      <td>NaN</td>\n",
       "      <td>NaN</td>\n",
       "      <td>NaN</td>\n",
       "      <td>0</td>\n",
       "      <td>4</td>\n",
       "      <td>2006</td>\n",
       "      <td>WD</td>\n",
       "    </tr>\n",
       "    <tr>\n",
       "      <th>1</th>\n",
       "      <td>2718</td>\n",
       "      <td>905108090</td>\n",
       "      <td>90</td>\n",
       "      <td>RL</td>\n",
       "      <td>NaN</td>\n",
       "      <td>9662</td>\n",
       "      <td>Pave</td>\n",
       "      <td>NaN</td>\n",
       "      <td>IR1</td>\n",
       "      <td>Lvl</td>\n",
       "      <td>...</td>\n",
       "      <td>0</td>\n",
       "      <td>0</td>\n",
       "      <td>0</td>\n",
       "      <td>NaN</td>\n",
       "      <td>NaN</td>\n",
       "      <td>NaN</td>\n",
       "      <td>0</td>\n",
       "      <td>8</td>\n",
       "      <td>2006</td>\n",
       "      <td>WD</td>\n",
       "    </tr>\n",
       "    <tr>\n",
       "      <th>2</th>\n",
       "      <td>2414</td>\n",
       "      <td>528218130</td>\n",
       "      <td>60</td>\n",
       "      <td>RL</td>\n",
       "      <td>58.0</td>\n",
       "      <td>17104</td>\n",
       "      <td>Pave</td>\n",
       "      <td>NaN</td>\n",
       "      <td>IR1</td>\n",
       "      <td>Lvl</td>\n",
       "      <td>...</td>\n",
       "      <td>0</td>\n",
       "      <td>0</td>\n",
       "      <td>0</td>\n",
       "      <td>NaN</td>\n",
       "      <td>NaN</td>\n",
       "      <td>NaN</td>\n",
       "      <td>0</td>\n",
       "      <td>9</td>\n",
       "      <td>2006</td>\n",
       "      <td>New</td>\n",
       "    </tr>\n",
       "    <tr>\n",
       "      <th>3</th>\n",
       "      <td>1989</td>\n",
       "      <td>902207150</td>\n",
       "      <td>30</td>\n",
       "      <td>RM</td>\n",
       "      <td>60.0</td>\n",
       "      <td>8520</td>\n",
       "      <td>Pave</td>\n",
       "      <td>NaN</td>\n",
       "      <td>Reg</td>\n",
       "      <td>Lvl</td>\n",
       "      <td>...</td>\n",
       "      <td>0</td>\n",
       "      <td>0</td>\n",
       "      <td>0</td>\n",
       "      <td>NaN</td>\n",
       "      <td>NaN</td>\n",
       "      <td>NaN</td>\n",
       "      <td>0</td>\n",
       "      <td>7</td>\n",
       "      <td>2007</td>\n",
       "      <td>WD</td>\n",
       "    </tr>\n",
       "    <tr>\n",
       "      <th>4</th>\n",
       "      <td>625</td>\n",
       "      <td>535105100</td>\n",
       "      <td>20</td>\n",
       "      <td>RL</td>\n",
       "      <td>NaN</td>\n",
       "      <td>9500</td>\n",
       "      <td>Pave</td>\n",
       "      <td>NaN</td>\n",
       "      <td>IR1</td>\n",
       "      <td>Lvl</td>\n",
       "      <td>...</td>\n",
       "      <td>0</td>\n",
       "      <td>185</td>\n",
       "      <td>0</td>\n",
       "      <td>NaN</td>\n",
       "      <td>NaN</td>\n",
       "      <td>NaN</td>\n",
       "      <td>0</td>\n",
       "      <td>7</td>\n",
       "      <td>2009</td>\n",
       "      <td>WD</td>\n",
       "    </tr>\n",
       "  </tbody>\n",
       "</table>\n",
       "<p>5 rows × 80 columns</p>\n",
       "</div>"
      ],
      "text/plain": [
       "     id        pid  ms_subclass ms_zoning  lot_frontage  lot_area street  \\\n",
       "0  2658  902301120          190        RM          69.0      9142   Pave   \n",
       "1  2718  905108090           90        RL           NaN      9662   Pave   \n",
       "2  2414  528218130           60        RL          58.0     17104   Pave   \n",
       "3  1989  902207150           30        RM          60.0      8520   Pave   \n",
       "4   625  535105100           20        RL           NaN      9500   Pave   \n",
       "\n",
       "  alley lot_shape land_contour  ... 3ssn_porch screen_porch pool_area pool_qc  \\\n",
       "0  Grvl       Reg          Lvl  ...          0            0         0     NaN   \n",
       "1   NaN       IR1          Lvl  ...          0            0         0     NaN   \n",
       "2   NaN       IR1          Lvl  ...          0            0         0     NaN   \n",
       "3   NaN       Reg          Lvl  ...          0            0         0     NaN   \n",
       "4   NaN       IR1          Lvl  ...          0          185         0     NaN   \n",
       "\n",
       "  fence misc_feature misc_val mo_sold  yr_sold  sale_type  \n",
       "0   NaN          NaN        0       4     2006        WD   \n",
       "1   NaN          NaN        0       8     2006        WD   \n",
       "2   NaN          NaN        0       9     2006        New  \n",
       "3   NaN          NaN        0       7     2007        WD   \n",
       "4   NaN          NaN        0       7     2009        WD   \n",
       "\n",
       "[5 rows x 80 columns]"
      ]
     },
     "execution_count": 5,
     "metadata": {},
     "output_type": "execute_result"
    }
   ],
   "source": [
    "test.head()"
   ]
  },
  {
   "cell_type": "code",
   "execution_count": 6,
   "id": "eb1d41ba-05ae-40cb-bbbc-89f6c5e84e02",
   "metadata": {
    "tags": []
   },
   "outputs": [
    {
     "name": "stdout",
     "output_type": "stream",
     "text": [
      "<class 'pandas.core.frame.DataFrame'>\n",
      "RangeIndex: 2051 entries, 0 to 2050\n",
      "Data columns (total 81 columns):\n",
      " #   Column           Non-Null Count  Dtype  \n",
      "---  ------           --------------  -----  \n",
      " 0   id               2051 non-null   int64  \n",
      " 1   pid              2051 non-null   int64  \n",
      " 2   ms_subclass      2051 non-null   int64  \n",
      " 3   ms_zoning        2051 non-null   object \n",
      " 4   lot_frontage     1721 non-null   float64\n",
      " 5   lot_area         2051 non-null   int64  \n",
      " 6   street           2051 non-null   object \n",
      " 7   alley            140 non-null    object \n",
      " 8   lot_shape        2051 non-null   object \n",
      " 9   land_contour     2051 non-null   object \n",
      " 10  utilities        2051 non-null   object \n",
      " 11  lot_config       2051 non-null   object \n",
      " 12  land_slope       2051 non-null   object \n",
      " 13  neighborhood     2051 non-null   object \n",
      " 14  condition_1      2051 non-null   object \n",
      " 15  condition_2      2051 non-null   object \n",
      " 16  bldg_type        2051 non-null   object \n",
      " 17  house_style      2051 non-null   object \n",
      " 18  overall_qual     2051 non-null   int64  \n",
      " 19  overall_cond     2051 non-null   int64  \n",
      " 20  year_built       2051 non-null   int64  \n",
      " 21  year_remod/add   2051 non-null   int64  \n",
      " 22  roof_style       2051 non-null   object \n",
      " 23  roof_matl        2051 non-null   object \n",
      " 24  exterior_1st     2051 non-null   object \n",
      " 25  exterior_2nd     2051 non-null   object \n",
      " 26  mas_vnr_type     2029 non-null   object \n",
      " 27  mas_vnr_area     2029 non-null   float64\n",
      " 28  exter_qual       2051 non-null   object \n",
      " 29  exter_cond       2051 non-null   object \n",
      " 30  foundation       2051 non-null   object \n",
      " 31  bsmt_qual        1996 non-null   object \n",
      " 32  bsmt_cond        1996 non-null   object \n",
      " 33  bsmt_exposure    1993 non-null   object \n",
      " 34  bsmtfin_type_1   1996 non-null   object \n",
      " 35  bsmtfin_sf_1     2050 non-null   float64\n",
      " 36  bsmtfin_type_2   1995 non-null   object \n",
      " 37  bsmtfin_sf_2     2050 non-null   float64\n",
      " 38  bsmt_unf_sf      2050 non-null   float64\n",
      " 39  total_bsmt_sf    2050 non-null   float64\n",
      " 40  heating          2051 non-null   object \n",
      " 41  heating_qc       2051 non-null   object \n",
      " 42  central_air      2051 non-null   object \n",
      " 43  electrical       2051 non-null   object \n",
      " 44  1st_flr_sf       2051 non-null   int64  \n",
      " 45  2nd_flr_sf       2051 non-null   int64  \n",
      " 46  low_qual_fin_sf  2051 non-null   int64  \n",
      " 47  gr_liv_area      2051 non-null   int64  \n",
      " 48  bsmt_full_bath   2049 non-null   float64\n",
      " 49  bsmt_half_bath   2049 non-null   float64\n",
      " 50  full_bath        2051 non-null   int64  \n",
      " 51  half_bath        2051 non-null   int64  \n",
      " 52  bedroom_abvgr    2051 non-null   int64  \n",
      " 53  kitchen_abvgr    2051 non-null   int64  \n",
      " 54  kitchen_qual     2051 non-null   object \n",
      " 55  totrms_abvgrd    2051 non-null   int64  \n",
      " 56  functional       2051 non-null   object \n",
      " 57  fireplaces       2051 non-null   int64  \n",
      " 58  fireplace_qu     1051 non-null   object \n",
      " 59  garage_type      1938 non-null   object \n",
      " 60  garage_yr_blt    1937 non-null   float64\n",
      " 61  garage_finish    1937 non-null   object \n",
      " 62  garage_cars      2050 non-null   float64\n",
      " 63  garage_area      2050 non-null   float64\n",
      " 64  garage_qual      1937 non-null   object \n",
      " 65  garage_cond      1937 non-null   object \n",
      " 66  paved_drive      2051 non-null   object \n",
      " 67  wood_deck_sf     2051 non-null   int64  \n",
      " 68  open_porch_sf    2051 non-null   int64  \n",
      " 69  enclosed_porch   2051 non-null   int64  \n",
      " 70  3ssn_porch       2051 non-null   int64  \n",
      " 71  screen_porch     2051 non-null   int64  \n",
      " 72  pool_area        2051 non-null   int64  \n",
      " 73  pool_qc          9 non-null      object \n",
      " 74  fence            400 non-null    object \n",
      " 75  misc_feature     65 non-null     object \n",
      " 76  misc_val         2051 non-null   int64  \n",
      " 77  mo_sold          2051 non-null   int64  \n",
      " 78  yr_sold          2051 non-null   int64  \n",
      " 79  sale_type        2051 non-null   object \n",
      " 80  saleprice        2051 non-null   int64  \n",
      "dtypes: float64(11), int64(28), object(42)\n",
      "memory usage: 1.3+ MB\n"
     ]
    }
   ],
   "source": [
    "train.info()"
   ]
  },
  {
   "cell_type": "code",
   "execution_count": 7,
   "id": "cd314233-47e5-4dd3-9672-4124f1b9bbe6",
   "metadata": {
    "tags": []
   },
   "outputs": [
    {
     "data": {
      "text/plain": [
       "['saleprice']"
      ]
     },
     "execution_count": 7,
     "metadata": {},
     "output_type": "execute_result"
    }
   ],
   "source": [
    "[i for i in train.columns if i not in test.columns]"
   ]
  },
  {
   "cell_type": "code",
   "execution_count": 8,
   "id": "3f460817-b521-440c-b234-180f23f4f0ee",
   "metadata": {
    "tags": []
   },
   "outputs": [
    {
     "data": {
      "text/plain": [
       "(2051, 81)"
      ]
     },
     "execution_count": 8,
     "metadata": {},
     "output_type": "execute_result"
    }
   ],
   "source": [
    "train.shape"
   ]
  },
  {
   "cell_type": "code",
   "execution_count": 9,
   "id": "bf4abd2c-d3cf-4aed-aea7-ff2166b86b61",
   "metadata": {
    "tags": []
   },
   "outputs": [
    {
     "data": {
      "text/plain": [
       "(878, 80)"
      ]
     },
     "execution_count": 9,
     "metadata": {},
     "output_type": "execute_result"
    }
   ],
   "source": [
    "test.shape"
   ]
  },
  {
   "cell_type": "markdown",
   "id": "fe18649b-0234-4401-8c09-ee3a3a892266",
   "metadata": {},
   "source": [
    "### finding all Null values"
   ]
  },
  {
   "cell_type": "code",
   "execution_count": 10,
   "id": "0939a76b-dee5-4392-875a-f692fe9deef5",
   "metadata": {
    "tags": []
   },
   "outputs": [
    {
     "data": {
      "text/plain": [
       "lot_frontage       330\n",
       "alley             1911\n",
       "mas_vnr_type        22\n",
       "mas_vnr_area        22\n",
       "bsmt_qual           55\n",
       "bsmt_cond           55\n",
       "bsmt_exposure       58\n",
       "bsmtfin_type_1      55\n",
       "bsmtfin_sf_1         1\n",
       "bsmtfin_type_2      56\n",
       "bsmtfin_sf_2         1\n",
       "bsmt_unf_sf          1\n",
       "total_bsmt_sf        1\n",
       "bsmt_full_bath       2\n",
       "bsmt_half_bath       2\n",
       "fireplace_qu      1000\n",
       "garage_type        113\n",
       "garage_yr_blt      114\n",
       "garage_finish      114\n",
       "garage_cars          1\n",
       "garage_area          1\n",
       "garage_qual        114\n",
       "garage_cond        114\n",
       "pool_qc           2042\n",
       "fence             1651\n",
       "misc_feature      1986\n",
       "dtype: int64"
      ]
     },
     "execution_count": 10,
     "metadata": {},
     "output_type": "execute_result"
    }
   ],
   "source": [
    "train.isnull().sum()[lambda x: x > 0]"
   ]
  },
  {
   "cell_type": "markdown",
   "id": "49ee319c-d831-48b4-8812-19d2fca244e2",
   "metadata": {},
   "source": [
    "### Figure out dtypes for each column"
   ]
  },
  {
   "cell_type": "code",
   "execution_count": 11,
   "id": "9b17ef62-de9f-4664-a4da-de28f0dcceec",
   "metadata": {
    "tags": []
   },
   "outputs": [],
   "source": [
    "integers = []\n",
    "floats = []\n",
    "objects = []\n",
    "other = []\n",
    "for i in train.columns:\n",
    "    if train[i].dtypes == 'O':\n",
    "        objects.append(i)\n",
    "    elif train[i].dtypes == 'int64':\n",
    "        integers.append(i)\n",
    "    elif train[i].dtypes == 'float64':\n",
    "        floats.append(i)\n",
    "    else:\n",
    "        other.append(i)\n",
    "     "
   ]
  },
  {
   "cell_type": "code",
   "execution_count": 12,
   "id": "5e04137c-2564-4ac2-92c7-6957b8479154",
   "metadata": {
    "tags": []
   },
   "outputs": [
    {
     "data": {
      "text/plain": [
       "ms_zoning            0\n",
       "street               0\n",
       "alley             1911\n",
       "lot_shape            0\n",
       "land_contour         0\n",
       "utilities            0\n",
       "lot_config           0\n",
       "land_slope           0\n",
       "neighborhood         0\n",
       "condition_1          0\n",
       "condition_2          0\n",
       "bldg_type            0\n",
       "house_style          0\n",
       "roof_style           0\n",
       "roof_matl            0\n",
       "exterior_1st         0\n",
       "exterior_2nd         0\n",
       "mas_vnr_type        22\n",
       "exter_qual           0\n",
       "exter_cond           0\n",
       "foundation           0\n",
       "bsmt_qual           55\n",
       "bsmt_cond           55\n",
       "bsmt_exposure       58\n",
       "bsmtfin_type_1      55\n",
       "bsmtfin_type_2      56\n",
       "heating              0\n",
       "heating_qc           0\n",
       "central_air          0\n",
       "electrical           0\n",
       "kitchen_qual         0\n",
       "functional           0\n",
       "fireplace_qu      1000\n",
       "garage_type        113\n",
       "garage_finish      114\n",
       "garage_qual        114\n",
       "garage_cond        114\n",
       "paved_drive          0\n",
       "pool_qc           2042\n",
       "fence             1651\n",
       "misc_feature      1986\n",
       "sale_type            0\n",
       "dtype: int64"
      ]
     },
     "execution_count": 12,
     "metadata": {},
     "output_type": "execute_result"
    }
   ],
   "source": [
    "train[objects].isnull().sum()"
   ]
  },
  {
   "cell_type": "markdown",
   "id": "bd7b5a26-e4e6-49aa-9eec-bec0af573796",
   "metadata": {
    "tags": []
   },
   "source": [
    "### Remove columns with large missing values "
   ]
  },
  {
   "cell_type": "code",
   "execution_count": 13,
   "id": "56dd9d68-4f0a-4a01-a614-cddf6d75f4cf",
   "metadata": {
    "tags": []
   },
   "outputs": [],
   "source": [
    "### Although some of these columns could be viewed as remodeling, most houses in the dataset are without these features."
   ]
  },
  {
   "cell_type": "code",
   "execution_count": 14,
   "id": "df3791be-4244-407c-85a2-16e813541877",
   "metadata": {
    "tags": []
   },
   "outputs": [
    {
     "data": {
      "text/plain": [
       "((878, 80), (2051, 81))"
      ]
     },
     "execution_count": 14,
     "metadata": {},
     "output_type": "execute_result"
    }
   ],
   "source": [
    "test.shape, train.shape"
   ]
  },
  {
   "cell_type": "code",
   "execution_count": 15,
   "id": "73e81309-cf79-4c9d-81f6-a0b3680af763",
   "metadata": {
    "tags": []
   },
   "outputs": [
    {
     "data": {
      "text/plain": [
       "alley           1911\n",
       "fireplace_qu    1000\n",
       "pool_qc         2042\n",
       "fence           1651\n",
       "misc_feature    1986\n",
       "dtype: int64"
      ]
     },
     "execution_count": 15,
     "metadata": {},
     "output_type": "execute_result"
    }
   ],
   "source": [
    "x = [i for i in train.columns if train[i].isnull().sum() > 999]\n",
    "train[x].isnull().sum()"
   ]
  },
  {
   "cell_type": "code",
   "execution_count": 16,
   "id": "a5c1db9a-0381-4056-97d4-c9b6aa4a5956",
   "metadata": {
    "tags": []
   },
   "outputs": [
    {
     "data": {
      "text/plain": [
       "alley           820\n",
       "fireplace_qu    422\n",
       "pool_qc         874\n",
       "fence           706\n",
       "misc_feature    837\n",
       "dtype: int64"
      ]
     },
     "execution_count": 16,
     "metadata": {},
     "output_type": "execute_result"
    }
   ],
   "source": [
    "x = [i for i in test.columns if test[i].isnull().sum() > 400]\n",
    "test[x].isnull().sum()"
   ]
  },
  {
   "cell_type": "code",
   "execution_count": 17,
   "id": "2a0a4aa9-e44b-4375-aa8d-9bcd07b4bade",
   "metadata": {
    "tags": []
   },
   "outputs": [],
   "source": [
    "train.drop(columns=x, inplace = True)"
   ]
  },
  {
   "cell_type": "code",
   "execution_count": 18,
   "id": "38837bbb-9e77-4b3c-a5f4-e6de860823cd",
   "metadata": {
    "tags": []
   },
   "outputs": [],
   "source": [
    "test.drop(columns=x, inplace = True)"
   ]
  },
  {
   "cell_type": "code",
   "execution_count": 19,
   "id": "712aa6ea-0db3-4110-a7b9-26e785beb352",
   "metadata": {
    "tags": []
   },
   "outputs": [],
   "source": [
    "train.drop(columns = 'mas_vnr_area', inplace=True)\n",
    "test.drop(columns = 'mas_vnr_area', inplace=True)"
   ]
  },
  {
   "cell_type": "code",
   "execution_count": 20,
   "id": "cb4ebcd3-bab3-4b8f-96dd-01cc44782a02",
   "metadata": {},
   "outputs": [],
   "source": [
    "train.drop(columns='pool_area', inplace = True)\n",
    "test.drop(columns='pool_area', inplace = True)"
   ]
  },
  {
   "cell_type": "code",
   "execution_count": 21,
   "id": "2fbbba12-93c1-4c56-a019-c207d263d912",
   "metadata": {
    "tags": []
   },
   "outputs": [
    {
     "data": {
      "text/plain": [
       "((878, 73), (2051, 74))"
      ]
     },
     "execution_count": 21,
     "metadata": {},
     "output_type": "execute_result"
    }
   ],
   "source": [
    "test.shape, train.shape"
   ]
  },
  {
   "cell_type": "code",
   "execution_count": 22,
   "id": "79f94a71-1f73-4f5c-bb90-7811295851e5",
   "metadata": {
    "tags": []
   },
   "outputs": [
    {
     "data": {
      "text/plain": [
       "lot_frontage      330\n",
       "mas_vnr_type       22\n",
       "bsmt_qual          55\n",
       "bsmt_cond          55\n",
       "bsmt_exposure      58\n",
       "bsmtfin_type_1     55\n",
       "bsmtfin_sf_1        1\n",
       "bsmtfin_type_2     56\n",
       "bsmtfin_sf_2        1\n",
       "bsmt_unf_sf         1\n",
       "total_bsmt_sf       1\n",
       "bsmt_full_bath      2\n",
       "bsmt_half_bath      2\n",
       "garage_type       113\n",
       "garage_yr_blt     114\n",
       "garage_finish     114\n",
       "garage_cars         1\n",
       "garage_area         1\n",
       "garage_qual       114\n",
       "garage_cond       114\n",
       "dtype: int64"
      ]
     },
     "execution_count": 22,
     "metadata": {},
     "output_type": "execute_result"
    }
   ],
   "source": [
    "train.isnull().sum()[lambda x: x > 0]"
   ]
  },
  {
   "cell_type": "markdown",
   "id": "352b0441-1a2b-4f77-88d9-04117e281417",
   "metadata": {},
   "source": [
    "### Changing null values of float columns to 0"
   ]
  },
  {
   "cell_type": "code",
   "execution_count": 23,
   "id": "6b996383-736f-4e0b-8823-cf4e4929135b",
   "metadata": {
    "tags": []
   },
   "outputs": [],
   "source": [
    "def null_to_zero(col):\n",
    "    train[col] = [0 if i == True else j for i, j in zip(train[col].isnull(), train[col])]\n",
    "    return train[col].isnull().sum()"
   ]
  },
  {
   "cell_type": "code",
   "execution_count": 24,
   "id": "9dcd81e3-39f7-4907-98aa-0b4f93bc1ac4",
   "metadata": {
    "tags": []
   },
   "outputs": [],
   "source": [
    "def null_to_zero_test(col):\n",
    "    test[col] = [0 if i == True else j for i, j in zip(test[col].isnull(), test[col])]\n",
    "    return test[col].isnull().sum()"
   ]
  },
  {
   "cell_type": "code",
   "execution_count": 25,
   "id": "76f22ef1-84b7-4523-a183-7f35ecd33bdd",
   "metadata": {},
   "outputs": [],
   "source": [
    "# why i choose these >????? "
   ]
  },
  {
   "cell_type": "code",
   "execution_count": 26,
   "id": "04f59da2-d260-4fe3-b3ed-b09c675e3a78",
   "metadata": {
    "tags": []
   },
   "outputs": [
    {
     "data": {
      "text/plain": [
       "0"
      ]
     },
     "execution_count": 26,
     "metadata": {},
     "output_type": "execute_result"
    }
   ],
   "source": [
    "null_to_zero_test('lot_frontage')\n",
    "null_to_zero_test('bsmtfin_sf_1')\n",
    "null_to_zero_test('bsmtfin_sf_2')\n",
    "null_to_zero_test('bsmt_unf_sf')\n",
    "null_to_zero_test('total_bsmt_sf')\n",
    "null_to_zero_test('bsmt_full_bath')\n",
    "null_to_zero_test('bsmt_half_bath')\n",
    "null_to_zero_test('garage_yr_blt')\n",
    "null_to_zero_test('garage_cars')\n",
    "null_to_zero_test('garage_area')"
   ]
  },
  {
   "cell_type": "code",
   "execution_count": 27,
   "id": "9a7ace7d-4b45-40f1-9718-3079d75f637a",
   "metadata": {
    "tags": []
   },
   "outputs": [
    {
     "data": {
      "text/plain": [
       "0"
      ]
     },
     "execution_count": 27,
     "metadata": {},
     "output_type": "execute_result"
    }
   ],
   "source": [
    "null_to_zero('lot_frontage')\n",
    "null_to_zero('bsmtfin_sf_1')\n",
    "null_to_zero('bsmtfin_sf_2')\n",
    "null_to_zero('bsmt_unf_sf')\n",
    "null_to_zero('total_bsmt_sf')\n",
    "null_to_zero('bsmt_full_bath')\n",
    "null_to_zero('bsmt_half_bath')\n",
    "null_to_zero('garage_yr_blt')\n",
    "null_to_zero('garage_cars')\n",
    "null_to_zero('garage_area')"
   ]
  },
  {
   "cell_type": "markdown",
   "id": "d5b95338-343b-447f-b449-f6516a21777e",
   "metadata": {},
   "source": [
    "### Changing null values of object columns to 'none'"
   ]
  },
  {
   "cell_type": "code",
   "execution_count": 28,
   "id": "1e0bf646-380f-4bf5-8950-0681b6f5bac5",
   "metadata": {
    "tags": []
   },
   "outputs": [],
   "source": [
    "def null_to_none(col):\n",
    "    train[col] = ['none' if i == True else j for i, j in zip(train[col].isnull(), train[col])]\n",
    "    return train[col].isnull().sum()"
   ]
  },
  {
   "cell_type": "code",
   "execution_count": 29,
   "id": "bcafa9e0-e08b-42d2-851c-494a7d079b89",
   "metadata": {
    "tags": []
   },
   "outputs": [],
   "source": [
    "def null_to_none_test(col):\n",
    "    test[col] = ['none' if i == True else j for i, j in zip(test[col].isnull(), test[col])]\n",
    "    return test[col].isnull().sum()"
   ]
  },
  {
   "cell_type": "code",
   "execution_count": 30,
   "id": "f9d63cac-8868-45af-87e9-04f0c5035f1d",
   "metadata": {
    "tags": []
   },
   "outputs": [
    {
     "data": {
      "text/plain": [
       "0"
      ]
     },
     "execution_count": 30,
     "metadata": {},
     "output_type": "execute_result"
    }
   ],
   "source": [
    "null_to_none('bsmt_exposure')\n",
    "null_to_none('bsmtfin_type_1')\n",
    "null_to_none('bsmtfin_type_2')\n",
    "null_to_none('garage_type')\n",
    "null_to_none('garage_finish')\n",
    "null_to_none('mas_vnr_type')"
   ]
  },
  {
   "cell_type": "code",
   "execution_count": 31,
   "id": "3e80abfb-fbd4-42fb-876d-e8ca9f418ebf",
   "metadata": {
    "tags": []
   },
   "outputs": [
    {
     "data": {
      "text/plain": [
       "0"
      ]
     },
     "execution_count": 31,
     "metadata": {},
     "output_type": "execute_result"
    }
   ],
   "source": [
    "null_to_none_test('bsmt_exposure')\n",
    "null_to_none_test('bsmtfin_type_1')\n",
    "null_to_none_test('bsmtfin_type_2')\n",
    "null_to_none_test('garage_type')\n",
    "null_to_none_test('garage_finish')\n",
    "null_to_none_test('mas_vnr_type')"
   ]
  },
  {
   "cell_type": "code",
   "execution_count": 32,
   "id": "af80b0d5-a7c8-4789-b37f-496bb9b5dc6a",
   "metadata": {
    "tags": []
   },
   "outputs": [],
   "source": [
    "def null_to_no(col): \n",
    "    train[col] = ['No' if i == True else j for i,j in zip(train[col].isnull(), train[col])]\n",
    "    return train[col].value_counts()"
   ]
  },
  {
   "cell_type": "code",
   "execution_count": 33,
   "id": "2161a611-7447-4e64-a63c-bd5e8ce5b1af",
   "metadata": {
    "tags": []
   },
   "outputs": [],
   "source": [
    "def null_to_no_test(col): \n",
    "    test[col] = ['No' if i == True else j for i,j in zip(test[col].isnull(), test[col])]\n",
    "    return test[col].value_counts()"
   ]
  },
  {
   "cell_type": "code",
   "execution_count": 34,
   "id": "9644f599-2f5e-445b-8edd-ebabd0b69ec4",
   "metadata": {
    "tags": []
   },
   "outputs": [
    {
     "data": {
      "text/plain": [
       "TA    796\n",
       "No     45\n",
       "Fa     27\n",
       "Po      6\n",
       "Gd      3\n",
       "Ex      1\n",
       "Name: garage_cond, dtype: int64"
      ]
     },
     "execution_count": 34,
     "metadata": {},
     "output_type": "execute_result"
    }
   ],
   "source": [
    "null_to_no_test('bsmt_qual')\n",
    "null_to_no_test('bsmt_cond')\n",
    "null_to_no_test('garage_qual')\n",
    "null_to_no_test('garage_cond')"
   ]
  },
  {
   "cell_type": "code",
   "execution_count": 35,
   "id": "ee468c2e-378c-46d6-b1d5-55d1689a34d5",
   "metadata": {
    "tags": []
   },
   "outputs": [
    {
     "data": {
      "text/plain": [
       "TA    887\n",
       "Gd    864\n",
       "Ex    184\n",
       "Fa     60\n",
       "No     55\n",
       "Po      1\n",
       "Name: bsmt_qual, dtype: int64"
      ]
     },
     "execution_count": 35,
     "metadata": {},
     "output_type": "execute_result"
    }
   ],
   "source": [
    "null_to_no('bsmt_qual')"
   ]
  },
  {
   "cell_type": "code",
   "execution_count": 36,
   "id": "20a1fbd1-24c4-442f-9d23-2295cbc5d30b",
   "metadata": {
    "tags": []
   },
   "outputs": [
    {
     "data": {
      "text/plain": [
       "TA    1834\n",
       "Gd      89\n",
       "Fa      65\n",
       "No      55\n",
       "Po       5\n",
       "Ex       3\n",
       "Name: bsmt_cond, dtype: int64"
      ]
     },
     "execution_count": 36,
     "metadata": {},
     "output_type": "execute_result"
    }
   ],
   "source": [
    "null_to_no('bsmt_cond')"
   ]
  },
  {
   "cell_type": "code",
   "execution_count": 37,
   "id": "6dbf108e-480e-4849-9f3e-7a9e488fc899",
   "metadata": {
    "tags": []
   },
   "outputs": [
    {
     "data": {
      "text/plain": [
       "TA    1832\n",
       "No     114\n",
       "Fa      82\n",
       "Gd      18\n",
       "Ex       3\n",
       "Po       2\n",
       "Name: garage_qual, dtype: int64"
      ]
     },
     "execution_count": 37,
     "metadata": {},
     "output_type": "execute_result"
    }
   ],
   "source": [
    "null_to_no('garage_qual')"
   ]
  },
  {
   "cell_type": "code",
   "execution_count": 38,
   "id": "4730da4e-8858-433a-8866-9b322aca5011",
   "metadata": {
    "tags": []
   },
   "outputs": [
    {
     "data": {
      "text/plain": [
       "TA    1868\n",
       "No     114\n",
       "Fa      47\n",
       "Gd      12\n",
       "Po       8\n",
       "Ex       2\n",
       "Name: garage_cond, dtype: int64"
      ]
     },
     "execution_count": 38,
     "metadata": {},
     "output_type": "execute_result"
    }
   ],
   "source": [
    "null_to_no('garage_cond')"
   ]
  },
  {
   "cell_type": "code",
   "execution_count": 39,
   "id": "5a1a11ff-a08e-4ebd-9769-c3468c61ce7e",
   "metadata": {
    "tags": []
   },
   "outputs": [
    {
     "data": {
      "text/plain": [
       "array(['FuseP', 'SBrkr', 'FuseA', 'FuseF', nan], dtype=object)"
      ]
     },
     "execution_count": 39,
     "metadata": {},
     "output_type": "execute_result"
    }
   ],
   "source": [
    "test['electrical'].unique()"
   ]
  },
  {
   "cell_type": "code",
   "execution_count": 40,
   "id": "b74585c0-b458-4e35-8456-e891e51acab1",
   "metadata": {
    "tags": []
   },
   "outputs": [
    {
     "data": {
      "text/plain": [
       "array(['FuseP', 'SBrkr', 'FuseA', 'FuseF', 'none'], dtype=object)"
      ]
     },
     "execution_count": 40,
     "metadata": {},
     "output_type": "execute_result"
    }
   ],
   "source": [
    "test['electrical'] = test['electrical'].fillna('none')\n",
    "test['electrical'].unique()"
   ]
  },
  {
   "cell_type": "code",
   "execution_count": 41,
   "id": "d871a16a-f0fb-4ec4-b99a-3010ef84c6fd",
   "metadata": {
    "tags": []
   },
   "outputs": [
    {
     "data": {
      "text/plain": [
       "Series([], dtype: int64)"
      ]
     },
     "execution_count": 41,
     "metadata": {},
     "output_type": "execute_result"
    }
   ],
   "source": [
    "train.isnull().sum()[lambda x: x > 0]"
   ]
  },
  {
   "cell_type": "code",
   "execution_count": 42,
   "id": "09497be1-2952-4c85-928e-1072b3ef1c3d",
   "metadata": {
    "tags": []
   },
   "outputs": [
    {
     "data": {
      "text/plain": [
       "Series([], dtype: int64)"
      ]
     },
     "execution_count": 42,
     "metadata": {},
     "output_type": "execute_result"
    }
   ],
   "source": [
    "test.isnull().sum()[lambda x: x > 0]"
   ]
  },
  {
   "cell_type": "markdown",
   "id": "d09bed65-e414-428b-8368-4f63952c6e8c",
   "metadata": {},
   "source": [
    "### Dataset has numerous columns regarding aspects of a house that can be remodeled. We will focus on these columns for our features"
   ]
  },
  {
   "cell_type": "markdown",
   "id": "99767a60-d525-40e1-b1b5-38015b149688",
   "metadata": {},
   "source": [
    "### Save cleaned data"
   ]
  },
  {
   "cell_type": "code",
   "execution_count": 43,
   "id": "3d1b3ae0-d823-4a4c-b473-871fbbd222b1",
   "metadata": {
    "tags": []
   },
   "outputs": [],
   "source": [
    "test.to_csv('../datasets/cleaned_test.csv', index = False)\n",
    "train.to_csv('../datasets/cleaned_train.csv', index = False)"
   ]
  },
  {
   "cell_type": "markdown",
   "id": "983d50c9-2efd-4d7e-9406-2e81c1d114fe",
   "metadata": {},
   "source": [
    "### SalePrice has a clear right skew distribution "
   ]
  },
  {
   "cell_type": "code",
   "execution_count": 44,
   "id": "266224dd-2118-464a-881c-87c63b948f12",
   "metadata": {
    "tags": []
   },
   "outputs": [
    {
     "data": {
      "image/png": "[encoded data removed]",
      "text/plain": [
       "<Figure size 640x480 with 1 Axes>"
      ]
     },
     "metadata": {},
     "output_type": "display_data"
    }
   ],
   "source": [
    "plt.hist(train['saleprice'])\n",
    "plt.title('Distribution of SalePrice')\n",
    "plt.xlabel('SalePrice in $')\n",
    "plt.ylabel('Count');\n",
    "plt.savefig('../images/distrib_saleprice.png')"
   ]
  }
 ],
 "metadata": {
  "kernelspec": {
   "display_name": "Python 3 (ipykernel)",
   "language": "python",
   "name": "python3"
  },
  "language_info": {
   "codemirror_mode": {
    "name": "ipython",
    "version": 3
   },
   "file_extension": ".py",
   "mimetype": "text/x-python",
   "name": "python",
   "nbconvert_exporter": "python",
   "pygments_lexer": "ipython3",
   "version": "3.11.4"
  }
 },
 "nbformat": 4,
 "nbformat_minor": 5
}
