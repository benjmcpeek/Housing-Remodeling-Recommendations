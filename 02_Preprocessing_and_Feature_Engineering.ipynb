{
 "cells": [
  {
   "cell_type": "markdown",
   "id": "8f64ad63-92da-475a-a6ff-368f3b937922",
   "metadata": {},
   "source": [
    "# Preprocessing and Feature Engineering"
   ]
  },
  {
   "cell_type": "code",
   "execution_count": 54,
   "id": "bbfe9df1-1eca-4c90-9222-984e683c7823",
   "metadata": {
    "tags": []
   },
   "outputs": [],
   "source": [
    "import pandas as pd\n",
    "import numpy as np\n",
    "import seaborn as sns\n",
    "import matplotlib.pyplot as plt\n",
    "from sklearn.preprocessing import OrdinalEncoder\n",
    "from sklearn.preprocessing import OneHotEncoder\n",
    "from sklearn.compose import ColumnTransformer"
   ]
  },
  {
   "cell_type": "code",
   "execution_count": 55,
   "id": "e15aa4e7-2325-466d-9c78-96b79587465a",
   "metadata": {
    "tags": []
   },
   "outputs": [],
   "source": [
    "train = pd.read_csv('../datasets/cleaned_train.csv')\n",
    "test = pd.read_csv('../datasets/cleaned_test.csv')"
   ]
  },
  {
   "cell_type": "code",
   "execution_count": 56,
   "id": "27debbbf-e952-4022-a28f-378c70be592a",
   "metadata": {
    "tags": []
   },
   "outputs": [
    {
     "data": {
      "text/plain": [
       "(2051, 74)"
      ]
     },
     "execution_count": 56,
     "metadata": {},
     "output_type": "execute_result"
    }
   ],
   "source": [
    "train.shape"
   ]
  },
  {
   "cell_type": "code",
   "execution_count": 57,
   "id": "e7ff4d9e-608d-45e6-9f17-23f627e4b627",
   "metadata": {
    "tags": []
   },
   "outputs": [
    {
     "data": {
      "text/plain": [
       "(878, 73)"
      ]
     },
     "execution_count": 57,
     "metadata": {},
     "output_type": "execute_result"
    }
   ],
   "source": [
    "test.shape"
   ]
  },
  {
   "cell_type": "markdown",
   "id": "10bfa7cd-47c1-4680-8621-dfb88b992bea",
   "metadata": {},
   "source": [
    "### list of features I'm interested in based off data dictionary"
   ]
  },
  {
   "cell_type": "code",
   "execution_count": 58,
   "id": "4e22c7a3-5f3c-47ec-a940-242c3b630fdc",
   "metadata": {
    "tags": []
   },
   "outputs": [],
   "source": [
    "features = ['lot_area', 'overall_qual', 'overall_cond', 'year_built', 'year_remod/add', \n",
    "            'exter_qual', 'exter_cond', 'bsmt_qual', 'bsmt_cond', 'heating_qc', 'kitchen_qual', 'garage_area', \n",
    "           'totrms_abvgrd', 'full_bath', '1st_flr_sf', 'gr_liv_area', 'garage_cars', 'lot_shape', 'land_contour', \n",
    "            'neighborhood', 'bldg_type', 'house_style', 'foundation']"
   ]
  },
  {
   "cell_type": "markdown",
   "id": "3956ac3b-122b-424b-bc8d-8b947425f352",
   "metadata": {},
   "source": [
    "# Removing Outliers"
   ]
  },
  {
   "cell_type": "code",
   "execution_count": 59,
   "id": "ac747b3b-d86f-4442-b1c8-23a222049456",
   "metadata": {
    "tags": []
   },
   "outputs": [
    {
     "data": {
      "text/html": [
       "<div>\n",
       "<style scoped>\n",
       "    .dataframe tbody tr th:only-of-type {\n",
       "        vertical-align: middle;\n",
       "    }\n",
       "\n",
       "    .dataframe tbody tr th {\n",
       "        vertical-align: top;\n",
       "    }\n",
       "\n",
       "    .dataframe thead th {\n",
       "        text-align: right;\n",
       "    }\n",
       "</style>\n",
       "<table border=\"1\" class=\"dataframe\">\n",
       "  <thead>\n",
       "    <tr style=\"text-align: right;\">\n",
       "      <th></th>\n",
       "      <th>lot_area</th>\n",
       "      <th>overall_qual</th>\n",
       "      <th>overall_cond</th>\n",
       "      <th>year_built</th>\n",
       "      <th>year_remod/add</th>\n",
       "      <th>totrms_abvgrd</th>\n",
       "      <th>full_bath</th>\n",
       "      <th>1st_flr_sf</th>\n",
       "      <th>gr_liv_area</th>\n",
       "    </tr>\n",
       "  </thead>\n",
       "  <tbody>\n",
       "    <tr>\n",
       "      <th>count</th>\n",
       "      <td>2051.000000</td>\n",
       "      <td>2051.000000</td>\n",
       "      <td>2051.000000</td>\n",
       "      <td>2051.000000</td>\n",
       "      <td>2051.000000</td>\n",
       "      <td>2051.000000</td>\n",
       "      <td>2051.000000</td>\n",
       "      <td>2051.000000</td>\n",
       "      <td>2051.000000</td>\n",
       "    </tr>\n",
       "    <tr>\n",
       "      <th>mean</th>\n",
       "      <td>10065.208191</td>\n",
       "      <td>6.112140</td>\n",
       "      <td>5.562165</td>\n",
       "      <td>1971.708922</td>\n",
       "      <td>1984.190151</td>\n",
       "      <td>6.435885</td>\n",
       "      <td>1.577279</td>\n",
       "      <td>1164.488055</td>\n",
       "      <td>1499.330083</td>\n",
       "    </tr>\n",
       "    <tr>\n",
       "      <th>std</th>\n",
       "      <td>6742.488909</td>\n",
       "      <td>1.426271</td>\n",
       "      <td>1.104497</td>\n",
       "      <td>30.177889</td>\n",
       "      <td>21.036250</td>\n",
       "      <td>1.560225</td>\n",
       "      <td>0.549279</td>\n",
       "      <td>396.446923</td>\n",
       "      <td>500.447829</td>\n",
       "    </tr>\n",
       "    <tr>\n",
       "      <th>min</th>\n",
       "      <td>1300.000000</td>\n",
       "      <td>1.000000</td>\n",
       "      <td>1.000000</td>\n",
       "      <td>1872.000000</td>\n",
       "      <td>1950.000000</td>\n",
       "      <td>2.000000</td>\n",
       "      <td>0.000000</td>\n",
       "      <td>334.000000</td>\n",
       "      <td>334.000000</td>\n",
       "    </tr>\n",
       "    <tr>\n",
       "      <th>25%</th>\n",
       "      <td>7500.000000</td>\n",
       "      <td>5.000000</td>\n",
       "      <td>5.000000</td>\n",
       "      <td>1953.500000</td>\n",
       "      <td>1964.500000</td>\n",
       "      <td>5.000000</td>\n",
       "      <td>1.000000</td>\n",
       "      <td>879.500000</td>\n",
       "      <td>1129.000000</td>\n",
       "    </tr>\n",
       "    <tr>\n",
       "      <th>50%</th>\n",
       "      <td>9430.000000</td>\n",
       "      <td>6.000000</td>\n",
       "      <td>5.000000</td>\n",
       "      <td>1974.000000</td>\n",
       "      <td>1993.000000</td>\n",
       "      <td>6.000000</td>\n",
       "      <td>2.000000</td>\n",
       "      <td>1093.000000</td>\n",
       "      <td>1444.000000</td>\n",
       "    </tr>\n",
       "    <tr>\n",
       "      <th>75%</th>\n",
       "      <td>11513.500000</td>\n",
       "      <td>7.000000</td>\n",
       "      <td>6.000000</td>\n",
       "      <td>2001.000000</td>\n",
       "      <td>2004.000000</td>\n",
       "      <td>7.000000</td>\n",
       "      <td>2.000000</td>\n",
       "      <td>1405.000000</td>\n",
       "      <td>1728.500000</td>\n",
       "    </tr>\n",
       "    <tr>\n",
       "      <th>max</th>\n",
       "      <td>159000.000000</td>\n",
       "      <td>10.000000</td>\n",
       "      <td>9.000000</td>\n",
       "      <td>2010.000000</td>\n",
       "      <td>2010.000000</td>\n",
       "      <td>15.000000</td>\n",
       "      <td>4.000000</td>\n",
       "      <td>5095.000000</td>\n",
       "      <td>5642.000000</td>\n",
       "    </tr>\n",
       "  </tbody>\n",
       "</table>\n",
       "</div>"
      ],
      "text/plain": [
       "            lot_area  overall_qual  overall_cond   year_built  year_remod/add  \\\n",
       "count    2051.000000   2051.000000   2051.000000  2051.000000     2051.000000   \n",
       "mean    10065.208191      6.112140      5.562165  1971.708922     1984.190151   \n",
       "std      6742.488909      1.426271      1.104497    30.177889       21.036250   \n",
       "min      1300.000000      1.000000      1.000000  1872.000000     1950.000000   \n",
       "25%      7500.000000      5.000000      5.000000  1953.500000     1964.500000   \n",
       "50%      9430.000000      6.000000      5.000000  1974.000000     1993.000000   \n",
       "75%     11513.500000      7.000000      6.000000  2001.000000     2004.000000   \n",
       "max    159000.000000     10.000000      9.000000  2010.000000     2010.000000   \n",
       "\n",
       "       totrms_abvgrd    full_bath   1st_flr_sf  gr_liv_area  \n",
       "count    2051.000000  2051.000000  2051.000000  2051.000000  \n",
       "mean        6.435885     1.577279  1164.488055  1499.330083  \n",
       "std         1.560225     0.549279   396.446923   500.447829  \n",
       "min         2.000000     0.000000   334.000000   334.000000  \n",
       "25%         5.000000     1.000000   879.500000  1129.000000  \n",
       "50%         6.000000     2.000000  1093.000000  1444.000000  \n",
       "75%         7.000000     2.000000  1405.000000  1728.500000  \n",
       "max        15.000000     4.000000  5095.000000  5642.000000  "
      ]
     },
     "execution_count": 59,
     "metadata": {},
     "output_type": "execute_result"
    }
   ],
   "source": [
    "int_describe = train[features].dtypes[lambda x: x == 'int64']\n",
    "train[int_describe.index].describe()"
   ]
  },
  {
   "cell_type": "code",
   "execution_count": 60,
   "id": "f7596f74-4ade-489d-9584-5c9df24ee5de",
   "metadata": {
    "tags": []
   },
   "outputs": [
    {
     "data": {
      "text/html": [
       "<div>\n",
       "<style scoped>\n",
       "    .dataframe tbody tr th:only-of-type {\n",
       "        vertical-align: middle;\n",
       "    }\n",
       "\n",
       "    .dataframe tbody tr th {\n",
       "        vertical-align: top;\n",
       "    }\n",
       "\n",
       "    .dataframe thead th {\n",
       "        text-align: right;\n",
       "    }\n",
       "</style>\n",
       "<table border=\"1\" class=\"dataframe\">\n",
       "  <thead>\n",
       "    <tr style=\"text-align: right;\">\n",
       "      <th></th>\n",
       "      <th>garage_area</th>\n",
       "      <th>garage_cars</th>\n",
       "    </tr>\n",
       "  </thead>\n",
       "  <tbody>\n",
       "    <tr>\n",
       "      <th>count</th>\n",
       "      <td>2051.000000</td>\n",
       "      <td>2051.000000</td>\n",
       "    </tr>\n",
       "    <tr>\n",
       "      <th>mean</th>\n",
       "      <td>473.440761</td>\n",
       "      <td>1.775719</td>\n",
       "    </tr>\n",
       "    <tr>\n",
       "      <th>std</th>\n",
       "      <td>216.135102</td>\n",
       "      <td>0.765357</td>\n",
       "    </tr>\n",
       "    <tr>\n",
       "      <th>min</th>\n",
       "      <td>0.000000</td>\n",
       "      <td>0.000000</td>\n",
       "    </tr>\n",
       "    <tr>\n",
       "      <th>25%</th>\n",
       "      <td>319.000000</td>\n",
       "      <td>1.000000</td>\n",
       "    </tr>\n",
       "    <tr>\n",
       "      <th>50%</th>\n",
       "      <td>480.000000</td>\n",
       "      <td>2.000000</td>\n",
       "    </tr>\n",
       "    <tr>\n",
       "      <th>75%</th>\n",
       "      <td>576.000000</td>\n",
       "      <td>2.000000</td>\n",
       "    </tr>\n",
       "    <tr>\n",
       "      <th>max</th>\n",
       "      <td>1418.000000</td>\n",
       "      <td>5.000000</td>\n",
       "    </tr>\n",
       "  </tbody>\n",
       "</table>\n",
       "</div>"
      ],
      "text/plain": [
       "       garage_area  garage_cars\n",
       "count  2051.000000  2051.000000\n",
       "mean    473.440761     1.775719\n",
       "std     216.135102     0.765357\n",
       "min       0.000000     0.000000\n",
       "25%     319.000000     1.000000\n",
       "50%     480.000000     2.000000\n",
       "75%     576.000000     2.000000\n",
       "max    1418.000000     5.000000"
      ]
     },
     "execution_count": 60,
     "metadata": {},
     "output_type": "execute_result"
    }
   ],
   "source": [
    "float_describe = train[features].dtypes[lambda x: x == 'float64']\n",
    "train[float_describe.index].describe()"
   ]
  },
  {
   "cell_type": "code",
   "execution_count": 61,
   "id": "6b45a535-605b-4e70-a6ef-b6417100c431",
   "metadata": {
    "tags": []
   },
   "outputs": [],
   "source": [
    "outliers = ['garage_area', 'lot_area', '1st_flr_sf', 'gr_liv_area']"
   ]
  },
  {
   "cell_type": "code",
   "execution_count": 62,
   "id": "ea0010b1-b038-4e57-a217-37e81e0593f2",
   "metadata": {
    "tags": []
   },
   "outputs": [],
   "source": [
    "mean_out = train.loc[train['garage_area']<800, 'garage_area'].mean()\n",
    "train['garage_area'] = np.where(train['garage_area'] >800, mean_out,train['garage_area'])"
   ]
  },
  {
   "cell_type": "code",
   "execution_count": 63,
   "id": "06a65056-630a-4165-b901-346d5623969f",
   "metadata": {
    "tags": []
   },
   "outputs": [],
   "source": [
    "mean_out = train.loc[train['lot_area']<15000, 'lot_area'].mean()\n",
    "train['lot_area'] = np.where(train['lot_area'] >15000, mean_out,train['lot_area'])"
   ]
  },
  {
   "cell_type": "code",
   "execution_count": 64,
   "id": "e7d485bb-582d-4802-98ca-baf745511d30",
   "metadata": {
    "tags": []
   },
   "outputs": [],
   "source": [
    "mean_out = train.loc[train['1st_flr_sf']<3500, '1st_flr_sf'].mean()\n",
    "train['1st_flr_sf'] = np.where(train['1st_flr_sf'] >3500, mean_out,train['1st_flr_sf'])"
   ]
  },
  {
   "cell_type": "code",
   "execution_count": 65,
   "id": "8314ca9b-54b2-4bd1-87b2-f91ba14f42ca",
   "metadata": {
    "tags": []
   },
   "outputs": [],
   "source": [
    "mean_out = train.loc[train['gr_liv_area']<3500, 'gr_liv_area'].mean()\n",
    "train['gr_liv_area'] = np.where(train['gr_liv_area'] >3500, mean_out,train['gr_liv_area'])"
   ]
  },
  {
   "cell_type": "markdown",
   "id": "9811affe-8bba-4398-89e6-de4cb47eca73",
   "metadata": {},
   "source": [
    "### Categorizing what I want to Feature "
   ]
  },
  {
   "cell_type": "code",
   "execution_count": 66,
   "id": "8a995280-6726-4b1b-818b-c5a3e8484845",
   "metadata": {
    "tags": []
   },
   "outputs": [],
   "source": [
    "# BINARY\n",
    "binary = ['lot_shape', 'land_contour', 'bldg_type', 'house_style']"
   ]
  },
  {
   "cell_type": "code",
   "execution_count": 67,
   "id": "65fca842-e9fb-4193-9600-62e7e81a7591",
   "metadata": {},
   "outputs": [],
   "source": [
    "# DUMMY\n",
    "dummy = ['neighborhood', 'foundation']"
   ]
  },
  {
   "cell_type": "code",
   "execution_count": 68,
   "id": "3af3f447-994c-4395-9ba0-352489145048",
   "metadata": {},
   "outputs": [],
   "source": [
    "# ORDINAL\n",
    "ordinal = ['exter_qual', 'exter_cond', 'bsmt_qual', 'bsmt_cond', 'heating_qc', 'kitchen_qual']"
   ]
  },
  {
   "cell_type": "markdown",
   "id": "f894859a-3c3f-4f87-8349-dc568f45274c",
   "metadata": {},
   "source": [
    "### Changing Columns to binary"
   ]
  },
  {
   "cell_type": "code",
   "execution_count": 69,
   "id": "e75c9edf-c521-4d48-94ff-2b63f261a5bd",
   "metadata": {
    "tags": []
   },
   "outputs": [],
   "source": [
    "# 1 = Regular, 0 = Irregular \n",
    "train['lot_shape'] = [1 if i == 'Reg' else 0 for i in train['lot_shape']]"
   ]
  },
  {
   "cell_type": "code",
   "execution_count": 70,
   "id": "2869c685-527f-4f19-b450-9960eea164dc",
   "metadata": {
    "tags": []
   },
   "outputs": [],
   "source": [
    "test['lot_shape'] = [1 if i == 'Reg' else 0 for i in test['lot_shape']]"
   ]
  },
  {
   "cell_type": "code",
   "execution_count": 71,
   "id": "388e148e-ed4f-4d36-9bac-fc569c53fd8c",
   "metadata": {
    "tags": []
   },
   "outputs": [
    {
     "data": {
      "text/plain": [
       "1    1295\n",
       "0     756\n",
       "Name: lot_shape, dtype: int64"
      ]
     },
     "execution_count": 71,
     "metadata": {},
     "output_type": "execute_result"
    }
   ],
   "source": [
    "train['lot_shape'].value_counts()"
   ]
  },
  {
   "cell_type": "code",
   "execution_count": 72,
   "id": "cc77b308-c18b-4853-aa3f-79e90c7b55f3",
   "metadata": {
    "tags": []
   },
   "outputs": [],
   "source": [
    "# 1 = Lvl, 0 = not Lvl \n",
    "train['land_contour'] = [1 if i == 'Lvl' else 0 for i in train['land_contour']]"
   ]
  },
  {
   "cell_type": "code",
   "execution_count": 73,
   "id": "121d17cf-139f-48a2-8fcf-ff38be84f770",
   "metadata": {
    "tags": []
   },
   "outputs": [],
   "source": [
    "test['land_contour'] = [1 if i == 'Lvl' else 0 for i in test['land_contour']]"
   ]
  },
  {
   "cell_type": "code",
   "execution_count": 74,
   "id": "2daaa13c-417c-4d54-8e58-bea6071cffb7",
   "metadata": {
    "tags": []
   },
   "outputs": [
    {
     "data": {
      "text/plain": [
       "1    1843\n",
       "0     208\n",
       "Name: land_contour, dtype: int64"
      ]
     },
     "execution_count": 74,
     "metadata": {},
     "output_type": "execute_result"
    }
   ],
   "source": [
    "train['land_contour'].value_counts()"
   ]
  },
  {
   "cell_type": "code",
   "execution_count": 75,
   "id": "ae62a2fa-1d63-47a6-b0bb-7dae9d509cc3",
   "metadata": {
    "tags": []
   },
   "outputs": [],
   "source": [
    "# 1 = 1Family house, 0 = other building type \n",
    "train['bldg_type'] = [1 if i == '1Fam' else 0 for i in train['bldg_type']]"
   ]
  },
  {
   "cell_type": "code",
   "execution_count": 76,
   "id": "31ff4e77-4ecd-4044-9983-fc2d6a171fb3",
   "metadata": {
    "tags": []
   },
   "outputs": [],
   "source": [
    "test['bldg_type'] = [1 if i == '1Fam' else 0 for i in test['bldg_type']]"
   ]
  },
  {
   "cell_type": "code",
   "execution_count": 77,
   "id": "93519f74-e469-4746-99b6-c64f83603961",
   "metadata": {
    "tags": []
   },
   "outputs": [
    {
     "data": {
      "text/plain": [
       "1    1700\n",
       "0     351\n",
       "Name: bldg_type, dtype: int64"
      ]
     },
     "execution_count": 77,
     "metadata": {},
     "output_type": "execute_result"
    }
   ],
   "source": [
    "train['bldg_type'].value_counts()"
   ]
  },
  {
   "cell_type": "code",
   "execution_count": 78,
   "id": "f9c3c274-ee98-449c-a20f-52c016540392",
   "metadata": {
    "tags": []
   },
   "outputs": [],
   "source": [
    "# 1 = 1Story, 0 = other house style\n",
    "train['house_style'] = [1 if i == '1Story' else 0 for i in train['house_style']]"
   ]
  },
  {
   "cell_type": "code",
   "execution_count": 79,
   "id": "fc7df869-ef6a-4704-b3bc-cfa82821bc62",
   "metadata": {
    "tags": []
   },
   "outputs": [],
   "source": [
    "test['house_style'] = [1 if i == '1Story' else 0 for i in test['house_style']]"
   ]
  },
  {
   "cell_type": "code",
   "execution_count": 80,
   "id": "c6b49d6b-67ba-4120-84d2-fb0ce0b52f40",
   "metadata": {
    "tags": []
   },
   "outputs": [
    {
     "data": {
      "text/plain": [
       "1    1059\n",
       "0     992\n",
       "Name: house_style, dtype: int64"
      ]
     },
     "execution_count": 80,
     "metadata": {},
     "output_type": "execute_result"
    }
   ],
   "source": [
    "train['house_style'].value_counts()"
   ]
  },
  {
   "cell_type": "markdown",
   "id": "732ac5ea-bf7c-475a-ad48-62c40c4f346b",
   "metadata": {},
   "source": [
    "### Changing Ordinal columns to Numerical "
   ]
  },
  {
   "cell_type": "code",
   "execution_count": 81,
   "id": "31c419d2-7e7f-4bcd-aea2-40a85dee4e9c",
   "metadata": {
    "tags": []
   },
   "outputs": [],
   "source": [
    "def ordinal_to_num_6(df, df2, col):\n",
    "    grading = ['No', 'Po', 'Fa', 'TA', 'Gd', 'Ex']\n",
    "    enc = OrdinalEncoder(categories=[grading])\n",
    "    df[col] = enc.fit_transform(df[[col]])\n",
    "    df2[col] = enc.transform(df2[[col]])\n",
    "    return df[col].value_counts(), df2[col].value_counts()"
   ]
  },
  {
   "cell_type": "code",
   "execution_count": 82,
   "id": "c864fa5c-c2cc-4fd3-b80d-7cc9da7a4621",
   "metadata": {
    "tags": []
   },
   "outputs": [
    {
     "data": {
      "text/plain": [
       "(3.0    887\n",
       " 4.0    864\n",
       " 5.0    184\n",
       " 2.0     60\n",
       " 0.0     55\n",
       " 1.0      1\n",
       " Name: bsmt_qual, dtype: int64,\n",
       " 3.0    396\n",
       " 4.0    355\n",
       " 5.0     73\n",
       " 2.0     28\n",
       " 0.0     25\n",
       " 1.0      1\n",
       " Name: bsmt_qual, dtype: int64)"
      ]
     },
     "execution_count": 82,
     "metadata": {},
     "output_type": "execute_result"
    }
   ],
   "source": [
    "ordinal_to_num_6(train, test, 'bsmt_qual')"
   ]
  },
  {
   "cell_type": "code",
   "execution_count": 83,
   "id": "b9d180ad-7690-4c5b-add7-aeefe2983eb5",
   "metadata": {
    "tags": []
   },
   "outputs": [
    {
     "data": {
      "text/plain": [
       "(3.0    1834\n",
       " 4.0      89\n",
       " 2.0      65\n",
       " 0.0      55\n",
       " 1.0       5\n",
       " 5.0       3\n",
       " Name: bsmt_cond, dtype: int64,\n",
       " 3.0    781\n",
       " 2.0     39\n",
       " 4.0     33\n",
       " 0.0     25\n",
       " Name: bsmt_cond, dtype: int64)"
      ]
     },
     "execution_count": 83,
     "metadata": {},
     "output_type": "execute_result"
    }
   ],
   "source": [
    "ordinal_to_num_6(train, test, 'bsmt_cond')"
   ]
  },
  {
   "cell_type": "code",
   "execution_count": 84,
   "id": "62c7e5c7-6658-44e5-8cc9-c85374e7bc74",
   "metadata": {
    "tags": []
   },
   "outputs": [],
   "source": [
    "def ordinal_to_num_4(df, df2, col):\n",
    "    grading = ['Fa', 'TA', 'Gd', 'Ex']\n",
    "    enc = OrdinalEncoder(categories=[grading])\n",
    "    df[col] = enc.fit_transform(df[[col]])\n",
    "    df2[col] = enc.transform(df2[[col]])\n",
    "    return df[col].value_counts(), df2[col].value_counts()"
   ]
  },
  {
   "cell_type": "code",
   "execution_count": 85,
   "id": "253489d3-3e6b-4f06-bfcd-6b31024766ea",
   "metadata": {
    "tags": []
   },
   "outputs": [],
   "source": [
    "test['kitchen_qual'] = test['kitchen_qual'].replace('Po', 'Fa')\n",
    "train['heating_qc'] = train['heating_qc'].replace('Po', 'Fa')"
   ]
  },
  {
   "cell_type": "code",
   "execution_count": 86,
   "id": "8879c9cb-0dc6-40d8-82f3-8b10a1ce70c8",
   "metadata": {
    "tags": []
   },
   "outputs": [
    {
     "data": {
      "text/plain": [
       "(1.0    1047\n",
       " 2.0     806\n",
       " 3.0     151\n",
       " 0.0      47\n",
       " Name: kitchen_qual, dtype: int64,\n",
       " 1.0    447\n",
       " 2.0    354\n",
       " 3.0     53\n",
       " 0.0     24\n",
       " Name: kitchen_qual, dtype: int64)"
      ]
     },
     "execution_count": 86,
     "metadata": {},
     "output_type": "execute_result"
    }
   ],
   "source": [
    "ordinal_to_num_4(train, test, 'kitchen_qual')"
   ]
  },
  {
   "cell_type": "code",
   "execution_count": 87,
   "id": "68588294-e3ec-4916-a07b-8fa0f11529e3",
   "metadata": {
    "tags": []
   },
   "outputs": [
    {
     "data": {
      "text/plain": [
       "(1.0    1247\n",
       " 2.0     697\n",
       " 3.0      81\n",
       " 0.0      26\n",
       " Name: exter_qual, dtype: int64,\n",
       " 1.0    552\n",
       " 2.0    292\n",
       " 3.0     25\n",
       " 0.0      9\n",
       " Name: exter_qual, dtype: int64)"
      ]
     },
     "execution_count": 87,
     "metadata": {},
     "output_type": "execute_result"
    }
   ],
   "source": [
    "ordinal_to_num_4(train, test, 'exter_qual')"
   ]
  },
  {
   "cell_type": "code",
   "execution_count": 88,
   "id": "ddbee353-62b0-4e3a-9142-db7e60c91248",
   "metadata": {
    "tags": []
   },
   "outputs": [
    {
     "data": {
      "text/plain": [
       "(3.0    1065\n",
       " 1.0     597\n",
       " 2.0     319\n",
       " 0.0      70\n",
       " Name: heating_qc, dtype: int64,\n",
       " 3.0    429\n",
       " 1.0    267\n",
       " 2.0    157\n",
       " 0.0     25\n",
       " Name: heating_qc, dtype: int64)"
      ]
     },
     "execution_count": 88,
     "metadata": {},
     "output_type": "execute_result"
    }
   ],
   "source": [
    "ordinal_to_num_4(train, test, 'heating_qc')"
   ]
  },
  {
   "cell_type": "code",
   "execution_count": 89,
   "id": "2ee6f743-7565-4748-9be2-17674711faa9",
   "metadata": {
    "tags": []
   },
   "outputs": [],
   "source": [
    "def ordinal_to_num_5(df, df2, col):\n",
    "    grading = ['Po', 'Fa', 'TA', 'Gd', 'Ex']\n",
    "    enc = OrdinalEncoder(categories=[grading])\n",
    "    df[col] = enc.fit_transform(df[[col]])\n",
    "    df2[col] = enc.transform(df2[[col]])\n",
    "    return df[col].value_counts(), df2[col].value_counts()"
   ]
  },
  {
   "cell_type": "code",
   "execution_count": 90,
   "id": "d4b3ecae-1e6d-4efc-a5af-daad1741fed0",
   "metadata": {
    "tags": []
   },
   "outputs": [
    {
     "data": {
      "text/plain": [
       "(2.0    1778\n",
       " 3.0     215\n",
       " 1.0      49\n",
       " 4.0       7\n",
       " 0.0       2\n",
       " Name: exter_cond, dtype: int64,\n",
       " 2.0    770\n",
       " 3.0     84\n",
       " 1.0     18\n",
       " 4.0      5\n",
       " 0.0      1\n",
       " Name: exter_cond, dtype: int64)"
      ]
     },
     "execution_count": 90,
     "metadata": {},
     "output_type": "execute_result"
    }
   ],
   "source": [
    "ordinal_to_num_5(train, test, 'exter_cond')"
   ]
  },
  {
   "cell_type": "markdown",
   "id": "8272ee07-1a0a-437e-a10c-1b828e244f64",
   "metadata": {
    "tags": []
   },
   "source": [
    "### Dummify Columns "
   ]
  },
  {
   "cell_type": "code",
   "execution_count": 91,
   "id": "7ba898ac-9176-465e-a429-6cfad086e9e2",
   "metadata": {
    "tags": []
   },
   "outputs": [],
   "source": [
    "dummy = ['neighborhood', 'foundation']"
   ]
  },
  {
   "cell_type": "code",
   "execution_count": 92,
   "id": "fc3a36dd-3005-48b1-8f24-0e23cb8d599a",
   "metadata": {
    "tags": []
   },
   "outputs": [],
   "source": [
    "ohe = OneHotEncoder(\n",
    "    drop = 'first',\n",
    "    handle_unknown = 'ignore',\n",
    "    sparse_output = False\n",
    ")"
   ]
  },
  {
   "cell_type": "code",
   "execution_count": 93,
   "id": "f0d2fd72-180f-40c5-913b-5e7c0d436a1a",
   "metadata": {
    "tags": []
   },
   "outputs": [],
   "source": [
    "ctx = ColumnTransformer(\n",
    "    transformers = [ \n",
    "        ('one_hot', ohe, dummy)\n",
    "    ], remainder = 'drop',\n",
    "    verbose_feature_names_out=False\n",
    ")"
   ]
  },
  {
   "cell_type": "code",
   "execution_count": 94,
   "id": "1fecf373-e059-4b48-9bdf-41ef3bf3d90f",
   "metadata": {
    "tags": []
   },
   "outputs": [],
   "source": [
    "\n",
    "ctx.fit(train)\n",
    "\n",
    "train_enc = ctx.transform(train)\n",
    "\n",
    "test_enc = ctx.transform(test)\n",
    "\n",
    "train_enc = pd.DataFrame(train_enc,\n",
    "                          columns = ctx.get_feature_names_out())\n",
    "\n",
    "test_enc = pd.DataFrame(test_enc,\n",
    "                          columns = ctx.get_feature_names_out())"
   ]
  },
  {
   "cell_type": "code",
   "execution_count": 95,
   "id": "bf1fef7d-e422-407d-aa3b-228a9f4ddefe",
   "metadata": {
    "tags": []
   },
   "outputs": [
    {
     "data": {
      "text/plain": [
       "(2051, 32)"
      ]
     },
     "execution_count": 95,
     "metadata": {},
     "output_type": "execute_result"
    }
   ],
   "source": [
    "train_enc.shape"
   ]
  },
  {
   "cell_type": "code",
   "execution_count": 96,
   "id": "07ccdae8-82c9-4c07-b8f5-debddc54a518",
   "metadata": {
    "tags": []
   },
   "outputs": [
    {
     "data": {
      "text/plain": [
       "(2051, 74)"
      ]
     },
     "execution_count": 96,
     "metadata": {},
     "output_type": "execute_result"
    }
   ],
   "source": [
    "train.shape"
   ]
  },
  {
   "cell_type": "code",
   "execution_count": 97,
   "id": "5fa34865-7485-4e47-9580-70b500c30ca2",
   "metadata": {
    "tags": []
   },
   "outputs": [],
   "source": [
    "# MERGE COLUMNS\n",
    "train = pd.concat([train, train_enc],\n",
    "                  axis = 1)"
   ]
  },
  {
   "cell_type": "code",
   "execution_count": 98,
   "id": "5570e3e8-966b-4d1f-98a4-8619856bdb8f",
   "metadata": {
    "tags": []
   },
   "outputs": [
    {
     "data": {
      "text/plain": [
       "(2051, 106)"
      ]
     },
     "execution_count": 98,
     "metadata": {},
     "output_type": "execute_result"
    }
   ],
   "source": [
    "train.shape"
   ]
  },
  {
   "cell_type": "code",
   "execution_count": 99,
   "id": "606ca262-192c-4143-82be-078e48eea496",
   "metadata": {
    "tags": []
   },
   "outputs": [],
   "source": [
    "test = pd.concat([test, test_enc],\n",
    "                  axis = 1)"
   ]
  },
  {
   "cell_type": "markdown",
   "id": "43e29a92-5eeb-4f16-acc7-d4200450ca8e",
   "metadata": {},
   "source": [
    "### Saleprice has a right skew distribution. We need to normalize our target variable"
   ]
  },
  {
   "cell_type": "code",
   "execution_count": 100,
   "id": "39477fac-dfe2-4de0-9aef-8fdc9f280fe7",
   "metadata": {
    "tags": []
   },
   "outputs": [
    {
     "data": {
      "text/plain": [
       "11.775290    25\n",
       "11.849398    22\n",
       "11.884489    20\n",
       "11.813030    19\n",
       "11.982929    16\n",
       "             ..\n",
       "11.984490     1\n",
       "12.498429     1\n",
       "12.484204     1\n",
       "12.198544     1\n",
       "12.607366     1\n",
       "Name: saleprice, Length: 828, dtype: int64"
      ]
     },
     "execution_count": 100,
     "metadata": {},
     "output_type": "execute_result"
    }
   ],
   "source": [
    "train['saleprice'] = np.log(train['saleprice'])\n",
    "train['saleprice'].value_counts()"
   ]
  },
  {
   "cell_type": "code",
   "execution_count": null,
   "id": "0675ff2c-99e1-4e57-88cd-717c7f5a8082",
   "metadata": {},
   "outputs": [],
   "source": []
  },
  {
   "cell_type": "code",
   "execution_count": 101,
   "id": "b9383b38-f154-4aed-91ea-31b58e43dc01",
   "metadata": {
    "tags": []
   },
   "outputs": [
    {
     "data": {
      "image/png": "[encoded data removed]",
      "text/plain": [
       "<Figure size 640x480 with 1 Axes>"
      ]
     },
     "metadata": {},
     "output_type": "display_data"
    }
   ],
   "source": [
    "plt.hist(train['saleprice'])\n",
    "plt.title('Normal Distribution of SalePrice')\n",
    "plt.xlabel('log(SalePrice)')\n",
    "plt.ylabel('Count');\n",
    "plt.savefig('../images/normal_distrib_saleprice.png')"
   ]
  },
  {
   "cell_type": "code",
   "execution_count": 102,
   "id": "5c590c62-ae8d-4de7-9f98-64fd8a7fd5a7",
   "metadata": {
    "tags": []
   },
   "outputs": [
    {
     "data": {
      "text/plain": [
       "lot_area          float64\n",
       "overall_qual        int64\n",
       "overall_cond        int64\n",
       "year_built          int64\n",
       "year_remod/add      int64\n",
       "exter_qual        float64\n",
       "exter_cond        float64\n",
       "bsmt_qual         float64\n",
       "bsmt_cond         float64\n",
       "heating_qc        float64\n",
       "kitchen_qual      float64\n",
       "garage_area       float64\n",
       "totrms_abvgrd       int64\n",
       "full_bath           int64\n",
       "1st_flr_sf        float64\n",
       "gr_liv_area       float64\n",
       "garage_cars       float64\n",
       "lot_shape           int64\n",
       "land_contour        int64\n",
       "neighborhood       object\n",
       "bldg_type           int64\n",
       "house_style         int64\n",
       "foundation         object\n",
       "dtype: object"
      ]
     },
     "execution_count": 102,
     "metadata": {},
     "output_type": "execute_result"
    }
   ],
   "source": [
    "train[features].dtypes"
   ]
  },
  {
   "cell_type": "code",
   "execution_count": 103,
   "id": "e7a2928f-940f-4de6-95ee-0c6fb21e5715",
   "metadata": {
    "tags": []
   },
   "outputs": [],
   "source": [
    "test.to_csv('../datasets/feat_test.csv', index = False)\n",
    "train.to_csv('../datasets/feat_train.csv', index = False)"
   ]
  }
 ],
 "metadata": {
  "kernelspec": {
   "display_name": "Python 3 (ipykernel)",
   "language": "python",
   "name": "python3"
  },
  "language_info": {
   "codemirror_mode": {
    "name": "ipython",
    "version": 3
   },
   "file_extension": ".py",
   "mimetype": "text/x-python",
   "name": "python",
   "nbconvert_exporter": "python",
   "pygments_lexer": "ipython3",
   "version": "3.11.4"
  }
 },
 "nbformat": 4,
 "nbformat_minor": 5
}
